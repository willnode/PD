{
 "cells": [
  {
   "cell_type": "markdown",
   "metadata": {},
   "source": [
    "# Seleksi Sampel"
   ]
  },
  {
   "cell_type": "markdown",
   "metadata": {},
   "source": [
    "Mari kita buat beberapa sampel"
   ]
  },
  {
   "cell_type": "code",
   "execution_count": 11,
   "metadata": {},
   "outputs": [],
   "source": [
    "import pandas as pd\n",
    "import statistics, itertools\n",
    "from IPython.display import HTML, display\n",
    "from tabulate import tabulate\n",
    "import scipy.spatial.distance as spad\n",
    "\n",
    "def table(df): display(HTML(tabulate(df, tablefmt='html', headers='keys', showindex=False)))"
   ]
  },
  {
   "cell_type": "code",
   "execution_count": 17,
   "metadata": {},
   "outputs": [
    {
     "data": {
      "text/html": [
       "<table>\n",
       "<thead>\n",
       "<tr><th style=\"text-align: right;\">  user_id</th><th style=\"text-align: right;\">  pause_video</th><th style=\"text-align: right;\">  play_video</th><th style=\"text-align: right;\">  seek_video</th><th style=\"text-align: right;\">  stop_video</th></tr>\n",
       "</thead>\n",
       "<tbody>\n",
       "<tr><td style=\"text-align: right;\">        0</td><td style=\"text-align: right;\">            1</td><td style=\"text-align: right;\">           4</td><td style=\"text-align: right;\">           1</td><td style=\"text-align: right;\">           1</td></tr>\n",
       "<tr><td style=\"text-align: right;\">        1</td><td style=\"text-align: right;\">           14</td><td style=\"text-align: right;\">          14</td><td style=\"text-align: right;\">           0</td><td style=\"text-align: right;\">           1</td></tr>\n",
       "<tr><td style=\"text-align: right;\">        2</td><td style=\"text-align: right;\">            0</td><td style=\"text-align: right;\">           0</td><td style=\"text-align: right;\">           0</td><td style=\"text-align: right;\">           0</td></tr>\n",
       "<tr><td style=\"text-align: right;\">        3</td><td style=\"text-align: right;\">            2</td><td style=\"text-align: right;\">           2</td><td style=\"text-align: right;\">           0</td><td style=\"text-align: right;\">           1</td></tr>\n",
       "<tr><td style=\"text-align: right;\">        4</td><td style=\"text-align: right;\">            3</td><td style=\"text-align: right;\">          22</td><td style=\"text-align: right;\">          18</td><td style=\"text-align: right;\">           0</td></tr>\n",
       "<tr><td style=\"text-align: right;\">        5</td><td style=\"text-align: right;\">            1</td><td style=\"text-align: right;\">           5</td><td style=\"text-align: right;\">           9</td><td style=\"text-align: right;\">           1</td></tr>\n",
       "<tr><td style=\"text-align: right;\">        6</td><td style=\"text-align: right;\">            5</td><td style=\"text-align: right;\">           9</td><td style=\"text-align: right;\">           6</td><td style=\"text-align: right;\">           1</td></tr>\n",
       "<tr><td style=\"text-align: right;\">        7</td><td style=\"text-align: right;\">            1</td><td style=\"text-align: right;\">          18</td><td style=\"text-align: right;\">          16</td><td style=\"text-align: right;\">           0</td></tr>\n",
       "<tr><td style=\"text-align: right;\">        8</td><td style=\"text-align: right;\">            7</td><td style=\"text-align: right;\">           9</td><td style=\"text-align: right;\">           2</td><td style=\"text-align: right;\">           1</td></tr>\n",
       "<tr><td style=\"text-align: right;\">        9</td><td style=\"text-align: right;\">            1</td><td style=\"text-align: right;\">           1</td><td style=\"text-align: right;\">           0</td><td style=\"text-align: right;\">           0</td></tr>\n",
       "<tr><td style=\"text-align: right;\">       10</td><td style=\"text-align: right;\">           32</td><td style=\"text-align: right;\">          33</td><td style=\"text-align: right;\">           1</td><td style=\"text-align: right;\">           1</td></tr>\n",
       "<tr><td style=\"text-align: right;\">       11</td><td style=\"text-align: right;\">            0</td><td style=\"text-align: right;\">           1</td><td style=\"text-align: right;\">           0</td><td style=\"text-align: right;\">           1</td></tr>\n",
       "<tr><td style=\"text-align: right;\">       12</td><td style=\"text-align: right;\">            0</td><td style=\"text-align: right;\">           0</td><td style=\"text-align: right;\">           0</td><td style=\"text-align: right;\">           0</td></tr>\n",
       "<tr><td style=\"text-align: right;\">       13</td><td style=\"text-align: right;\">           18</td><td style=\"text-align: right;\">          23</td><td style=\"text-align: right;\">          13</td><td style=\"text-align: right;\">           6</td></tr>\n",
       "<tr><td style=\"text-align: right;\">       14</td><td style=\"text-align: right;\">            0</td><td style=\"text-align: right;\">           0</td><td style=\"text-align: right;\">           1</td><td style=\"text-align: right;\">           0</td></tr>\n",
       "<tr><td style=\"text-align: right;\">       15</td><td style=\"text-align: right;\">            0</td><td style=\"text-align: right;\">           6</td><td style=\"text-align: right;\">          10</td><td style=\"text-align: right;\">           1</td></tr>\n",
       "<tr><td style=\"text-align: right;\">       16</td><td style=\"text-align: right;\">            0</td><td style=\"text-align: right;\">           0</td><td style=\"text-align: right;\">           0</td><td style=\"text-align: right;\">           0</td></tr>\n",
       "<tr><td style=\"text-align: right;\">       17</td><td style=\"text-align: right;\">           10</td><td style=\"text-align: right;\">          16</td><td style=\"text-align: right;\">           4</td><td style=\"text-align: right;\">           3</td></tr>\n",
       "<tr><td style=\"text-align: right;\">       18</td><td style=\"text-align: right;\">            1</td><td style=\"text-align: right;\">           2</td><td style=\"text-align: right;\">           0</td><td style=\"text-align: right;\">           1</td></tr>\n",
       "<tr><td style=\"text-align: right;\">       19</td><td style=\"text-align: right;\">            1</td><td style=\"text-align: right;\">         106</td><td style=\"text-align: right;\">           1</td><td style=\"text-align: right;\">           1</td></tr>\n",
       "</tbody>\n",
       "</table>"
      ],
      "text/plain": [
       "<IPython.core.display.HTML object>"
      ]
     },
     "metadata": {},
     "output_type": "display_data"
    }
   ],
   "source": [
    "df = pd.read_csv('outlier.csv', usecols=['user_id', 'pause_video', 'play_video', 'seek_video', 'stop_video'], nrows=20)\n",
    "table(df)"
   ]
  },
  {
   "cell_type": "markdown",
   "metadata": {},
   "source": [
    "## Outlier Detection\n",
    "\n",
    "Outlier adalah samples janggal yang keluar dari kerumuman. Mereka membuat integritas data tidak sehat.\n",
    "\n",
    "![](https://paper-attachments.dropbox.com/s_1185AEC62427E23657579AF288686866FF5B3F65A0E36E86D1A293C6B0CCF4B4_1553405161903_sqDCqTEGAmcjqerU4VmkGaw.png)\n",
    "\n",
    "Suatu sampel $A$ dapat dikatakan sebagai outlier dalam data (D), jika \n",
    "$$  \\left(\\sum^n_{i=1}\\left[\\operatorname{dist}(A, D_i) > r\\right]\\right) > \\pi{n} $$\n",
    "\n",
    "dimana $r$ adalah batas normal jarak dan $\\pi$ adalah rasio toleransi (antara 0...1). Kedua $r$ dan  $\\pi$ dapat diatur secara empiris untuk mendapatkan data yang ideal"
   ]
  },
  {
   "cell_type": "code",
   "execution_count": 70,
   "metadata": {
    "scrolled": false
   },
   "outputs": [
    {
     "name": "stdout",
     "output_type": "stream",
     "text": [
      "Deteksi outlier dengan r = 20 dan pi = 0.5\n"
     ]
    },
    {
     "data": {
      "text/html": [
       "<table>\n",
       "<thead>\n",
       "<tr><th style=\"text-align: right;\">  user_id</th><th style=\"text-align: right;\">  pause_video</th><th style=\"text-align: right;\">  play_video</th><th style=\"text-align: right;\">  seek_video</th><th style=\"text-align: right;\">  stop_video</th><th>Outliers?  </th></tr>\n",
       "</thead>\n",
       "<tbody>\n",
       "<tr><td style=\"text-align: right;\">        0</td><td style=\"text-align: right;\">            1</td><td style=\"text-align: right;\">           4</td><td style=\"text-align: right;\">           1</td><td style=\"text-align: right;\">           1</td><td>-          </td></tr>\n",
       "<tr><td style=\"text-align: right;\">        1</td><td style=\"text-align: right;\">           14</td><td style=\"text-align: right;\">          14</td><td style=\"text-align: right;\">           0</td><td style=\"text-align: right;\">           1</td><td>-          </td></tr>\n",
       "<tr><td style=\"text-align: right;\">        2</td><td style=\"text-align: right;\">            0</td><td style=\"text-align: right;\">           0</td><td style=\"text-align: right;\">           0</td><td style=\"text-align: right;\">           0</td><td>-          </td></tr>\n",
       "<tr><td style=\"text-align: right;\">        3</td><td style=\"text-align: right;\">            2</td><td style=\"text-align: right;\">           2</td><td style=\"text-align: right;\">           0</td><td style=\"text-align: right;\">           1</td><td>-          </td></tr>\n",
       "<tr><td style=\"text-align: right;\">        4</td><td style=\"text-align: right;\">            3</td><td style=\"text-align: right;\">          22</td><td style=\"text-align: right;\">          18</td><td style=\"text-align: right;\">           0</td><td>Y          </td></tr>\n",
       "<tr><td style=\"text-align: right;\">        5</td><td style=\"text-align: right;\">            1</td><td style=\"text-align: right;\">           5</td><td style=\"text-align: right;\">           9</td><td style=\"text-align: right;\">           1</td><td>-          </td></tr>\n",
       "<tr><td style=\"text-align: right;\">        6</td><td style=\"text-align: right;\">            5</td><td style=\"text-align: right;\">           9</td><td style=\"text-align: right;\">           6</td><td style=\"text-align: right;\">           1</td><td>-          </td></tr>\n",
       "<tr><td style=\"text-align: right;\">        7</td><td style=\"text-align: right;\">            1</td><td style=\"text-align: right;\">          18</td><td style=\"text-align: right;\">          16</td><td style=\"text-align: right;\">           0</td><td>Y          </td></tr>\n",
       "<tr><td style=\"text-align: right;\">        8</td><td style=\"text-align: right;\">            7</td><td style=\"text-align: right;\">           9</td><td style=\"text-align: right;\">           2</td><td style=\"text-align: right;\">           1</td><td>-          </td></tr>\n",
       "<tr><td style=\"text-align: right;\">        9</td><td style=\"text-align: right;\">            1</td><td style=\"text-align: right;\">           1</td><td style=\"text-align: right;\">           0</td><td style=\"text-align: right;\">           0</td><td>-          </td></tr>\n",
       "<tr><td style=\"text-align: right;\">       10</td><td style=\"text-align: right;\">           32</td><td style=\"text-align: right;\">          33</td><td style=\"text-align: right;\">           1</td><td style=\"text-align: right;\">           1</td><td>Y          </td></tr>\n",
       "<tr><td style=\"text-align: right;\">       11</td><td style=\"text-align: right;\">            0</td><td style=\"text-align: right;\">           1</td><td style=\"text-align: right;\">           0</td><td style=\"text-align: right;\">           1</td><td>-          </td></tr>\n",
       "<tr><td style=\"text-align: right;\">       12</td><td style=\"text-align: right;\">            0</td><td style=\"text-align: right;\">           0</td><td style=\"text-align: right;\">           0</td><td style=\"text-align: right;\">           0</td><td>-          </td></tr>\n",
       "<tr><td style=\"text-align: right;\">       13</td><td style=\"text-align: right;\">           18</td><td style=\"text-align: right;\">          23</td><td style=\"text-align: right;\">          13</td><td style=\"text-align: right;\">           6</td><td>Y          </td></tr>\n",
       "<tr><td style=\"text-align: right;\">       14</td><td style=\"text-align: right;\">            0</td><td style=\"text-align: right;\">           0</td><td style=\"text-align: right;\">           1</td><td style=\"text-align: right;\">           0</td><td>-          </td></tr>\n",
       "<tr><td style=\"text-align: right;\">       15</td><td style=\"text-align: right;\">            0</td><td style=\"text-align: right;\">           6</td><td style=\"text-align: right;\">          10</td><td style=\"text-align: right;\">           1</td><td>-          </td></tr>\n",
       "<tr><td style=\"text-align: right;\">       16</td><td style=\"text-align: right;\">            0</td><td style=\"text-align: right;\">           0</td><td style=\"text-align: right;\">           0</td><td style=\"text-align: right;\">           0</td><td>-          </td></tr>\n",
       "<tr><td style=\"text-align: right;\">       17</td><td style=\"text-align: right;\">           10</td><td style=\"text-align: right;\">          16</td><td style=\"text-align: right;\">           4</td><td style=\"text-align: right;\">           3</td><td>-          </td></tr>\n",
       "<tr><td style=\"text-align: right;\">       18</td><td style=\"text-align: right;\">            1</td><td style=\"text-align: right;\">           2</td><td style=\"text-align: right;\">           0</td><td style=\"text-align: right;\">           1</td><td>-          </td></tr>\n",
       "<tr><td style=\"text-align: right;\">       19</td><td style=\"text-align: right;\">            1</td><td style=\"text-align: right;\">         106</td><td style=\"text-align: right;\">           1</td><td style=\"text-align: right;\">           1</td><td>Y          </td></tr>\n",
       "</tbody>\n",
       "</table>"
      ],
      "text/plain": [
       "<IPython.core.display.HTML object>"
      ]
     },
     "metadata": {},
     "output_type": "display_data"
    }
   ],
   "source": [
    "r = 20\n",
    "pi = 0.5\n",
    "d = df.values\n",
    "\n",
    "def is_outlier(i):\n",
    "    count = 0\n",
    "    for j in range(len(d)):\n",
    "        delta = spad.euclidean(d[i,1:],d[j,1:])\n",
    "        if (i!=j and delta <= r):\n",
    "            count += 1\n",
    "            if count >= pi*n:\n",
    "                return False\n",
    "    return True\n",
    "\n",
    "print(\"Deteksi outlier dengan r =\",r,'dan pi =',pi)\n",
    "table(pd.DataFrame([[*d[i], \n",
    "    'Y' if is_outlier(i) else '-'] for i in range(len(d))], \n",
    "    columns=[*df.columns,\"Outliers?\"]))"
   ]
  },
  {
   "cell_type": "markdown",
   "metadata": {},
   "source": [
    "# Outliers Detection 2 \n",
    "\n",
    "Cara deteksi kedua (lebih efisien) adalah menghitung jarak dari mean setiap fitur ($c$), sehingga sampel $A$ akan menjadi outlier jika\n",
    "\n",
    "$$ \\left(\\sum^n_{i=1}\\frac{\\left(A_c-\\overline{c}\\right)^2}{\\overline{c}}\\right) > r $$"
   ]
  },
  {
   "cell_type": "code",
   "execution_count": 73,
   "metadata": {},
   "outputs": [
    {
     "name": "stdout",
     "output_type": "stream",
     "text": [
      "Deteksi outlier dengan r = 50\n"
     ]
    },
    {
     "data": {
      "text/html": [
       "<table>\n",
       "<thead>\n",
       "<tr><th style=\"text-align: right;\">  user_id</th><th style=\"text-align: right;\">  pause_video</th><th style=\"text-align: right;\">  play_video</th><th style=\"text-align: right;\">  seek_video</th><th style=\"text-align: right;\">  stop_video</th><th style=\"text-align: right;\">  Dist</th><th>Outliers?  </th></tr>\n",
       "</thead>\n",
       "<tbody>\n",
       "<tr><td style=\"text-align: right;\">        0</td><td style=\"text-align: right;\">            1</td><td style=\"text-align: right;\">           4</td><td style=\"text-align: right;\">           1</td><td style=\"text-align: right;\">           1</td><td style=\"text-align: right;\"> 12.13</td><td>-          </td></tr>\n",
       "<tr><td style=\"text-align: right;\">        1</td><td style=\"text-align: right;\">           14</td><td style=\"text-align: right;\">          14</td><td style=\"text-align: right;\">           0</td><td style=\"text-align: right;\">           1</td><td style=\"text-align: right;\"> 21.38</td><td>-          </td></tr>\n",
       "<tr><td style=\"text-align: right;\">        2</td><td style=\"text-align: right;\">            0</td><td style=\"text-align: right;\">           0</td><td style=\"text-align: right;\">           0</td><td style=\"text-align: right;\">           0</td><td style=\"text-align: right;\"> 23.5 </td><td>-          </td></tr>\n",
       "<tr><td style=\"text-align: right;\">        3</td><td style=\"text-align: right;\">            2</td><td style=\"text-align: right;\">           2</td><td style=\"text-align: right;\">           0</td><td style=\"text-align: right;\">           1</td><td style=\"text-align: right;\"> 15.62</td><td>-          </td></tr>\n",
       "<tr><td style=\"text-align: right;\">        4</td><td style=\"text-align: right;\">            3</td><td style=\"text-align: right;\">          22</td><td style=\"text-align: right;\">          18</td><td style=\"text-align: right;\">           0</td><td style=\"text-align: right;\"> 54.1 </td><td>Y          </td></tr>\n",
       "<tr><td style=\"text-align: right;\">        5</td><td style=\"text-align: right;\">            1</td><td style=\"text-align: right;\">           5</td><td style=\"text-align: right;\">           9</td><td style=\"text-align: right;\">           1</td><td style=\"text-align: right;\"> 14.31</td><td>-          </td></tr>\n",
       "<tr><td style=\"text-align: right;\">        6</td><td style=\"text-align: right;\">            5</td><td style=\"text-align: right;\">           9</td><td style=\"text-align: right;\">           6</td><td style=\"text-align: right;\">           1</td><td style=\"text-align: right;\">  2.41</td><td>-          </td></tr>\n",
       "<tr><td style=\"text-align: right;\">        7</td><td style=\"text-align: right;\">            1</td><td style=\"text-align: right;\">          18</td><td style=\"text-align: right;\">          16</td><td style=\"text-align: right;\">           0</td><td style=\"text-align: right;\"> 40.06</td><td>-          </td></tr>\n",
       "<tr><td style=\"text-align: right;\">        8</td><td style=\"text-align: right;\">            7</td><td style=\"text-align: right;\">           9</td><td style=\"text-align: right;\">           2</td><td style=\"text-align: right;\">           1</td><td style=\"text-align: right;\">  3.56</td><td>-          </td></tr>\n",
       "<tr><td style=\"text-align: right;\">        9</td><td style=\"text-align: right;\">            1</td><td style=\"text-align: right;\">           1</td><td style=\"text-align: right;\">           0</td><td style=\"text-align: right;\">           0</td><td style=\"text-align: right;\"> 19.78</td><td>-          </td></tr>\n",
       "<tr><td style=\"text-align: right;\">       10</td><td style=\"text-align: right;\">           32</td><td style=\"text-align: right;\">          33</td><td style=\"text-align: right;\">           1</td><td style=\"text-align: right;\">           1</td><td style=\"text-align: right;\">182.25</td><td>Y          </td></tr>\n",
       "<tr><td style=\"text-align: right;\">       11</td><td style=\"text-align: right;\">            0</td><td style=\"text-align: right;\">           1</td><td style=\"text-align: right;\">           0</td><td style=\"text-align: right;\">           1</td><td style=\"text-align: right;\"> 20.57</td><td>-          </td></tr>\n",
       "<tr><td style=\"text-align: right;\">       12</td><td style=\"text-align: right;\">            0</td><td style=\"text-align: right;\">           0</td><td style=\"text-align: right;\">           0</td><td style=\"text-align: right;\">           0</td><td style=\"text-align: right;\"> 23.5 </td><td>-          </td></tr>\n",
       "<tr><td style=\"text-align: right;\">       13</td><td style=\"text-align: right;\">           18</td><td style=\"text-align: right;\">          23</td><td style=\"text-align: right;\">          13</td><td style=\"text-align: right;\">           6</td><td style=\"text-align: right;\"> 86.56</td><td>Y          </td></tr>\n",
       "<tr><td style=\"text-align: right;\">       14</td><td style=\"text-align: right;\">            0</td><td style=\"text-align: right;\">           0</td><td style=\"text-align: right;\">           1</td><td style=\"text-align: right;\">           0</td><td style=\"text-align: right;\"> 21.74</td><td>-          </td></tr>\n",
       "<tr><td style=\"text-align: right;\">       15</td><td style=\"text-align: right;\">            0</td><td style=\"text-align: right;\">           6</td><td style=\"text-align: right;\">          10</td><td style=\"text-align: right;\">           1</td><td style=\"text-align: right;\"> 17.55</td><td>-          </td></tr>\n",
       "<tr><td style=\"text-align: right;\">       16</td><td style=\"text-align: right;\">            0</td><td style=\"text-align: right;\">           0</td><td style=\"text-align: right;\">           0</td><td style=\"text-align: right;\">           0</td><td style=\"text-align: right;\"> 23.5 </td><td>-          </td></tr>\n",
       "<tr><td style=\"text-align: right;\">       17</td><td style=\"text-align: right;\">           10</td><td style=\"text-align: right;\">          16</td><td style=\"text-align: right;\">           4</td><td style=\"text-align: right;\">           3</td><td style=\"text-align: right;\">  9.91</td><td>-          </td></tr>\n",
       "<tr><td style=\"text-align: right;\">       18</td><td style=\"text-align: right;\">            1</td><td style=\"text-align: right;\">           2</td><td style=\"text-align: right;\">           0</td><td style=\"text-align: right;\">           1</td><td style=\"text-align: right;\"> 17   </td><td>-          </td></tr>\n",
       "<tr><td style=\"text-align: right;\">       19</td><td style=\"text-align: right;\">            1</td><td style=\"text-align: right;\">         106</td><td style=\"text-align: right;\">           1</td><td style=\"text-align: right;\">           1</td><td style=\"text-align: right;\">636.18</td><td>Y          </td></tr>\n",
       "</tbody>\n",
       "</table>"
      ],
      "text/plain": [
       "<IPython.core.display.HTML object>"
      ]
     },
     "metadata": {},
     "output_type": "display_data"
    }
   ],
   "source": [
    "# Outliers 2\n",
    "avgs = [df[x].mean() for x in df.columns][1:]\n",
    "\n",
    "r = 50\n",
    "d = df.values\n",
    "\n",
    "def get_is_outlier(i):\n",
    "    dist = sum([(c-avgs[j])**2/avgs[j] for j,c in enumerate(d[i,1:])])\n",
    "    return '{:.2f}'.format(dist), 'Y' if dist > r else '-'\n",
    "\n",
    "print(\"Deteksi outlier dengan r =\",r)\n",
    "table(pd.DataFrame([[*d[i], *get_is_outlier(i)] for i in range(len(d))], \n",
    "    columns=[*df.columns,\"Dist\", \"Outliers?\"]))\n"
   ]
  },
  {
   "cell_type": "markdown",
   "metadata": {},
   "source": [
    "# Handling Missing Values with KNN\n",
    "\n",
    "KNN (K-Neighboring)\n"
   ]
  },
  {
   "cell_type": "code",
   "execution_count": 84,
   "metadata": {
    "scrolled": true
   },
   "outputs": [
    {
     "data": {
      "text/html": [
       "<table>\n",
       "<thead>\n",
       "<tr><th style=\"text-align: right;\">  user_id</th><th style=\"text-align: right;\">  pause_video</th><th style=\"text-align: right;\">  play_video</th><th style=\"text-align: right;\">  seek_video</th><th style=\"text-align: right;\">  stop_video</th></tr>\n",
       "</thead>\n",
       "<tbody>\n",
       "<tr><td style=\"text-align: right;\">        0</td><td style=\"text-align: right;\">            1</td><td style=\"text-align: right;\">           4</td><td style=\"text-align: right;\">           1</td><td style=\"text-align: right;\">           1</td></tr>\n",
       "<tr><td style=\"text-align: right;\">        1</td><td style=\"text-align: right;\">           14</td><td style=\"text-align: right;\">          14</td><td style=\"text-align: right;\">           0</td><td style=\"text-align: right;\">           1</td></tr>\n",
       "<tr><td style=\"text-align: right;\">        2</td><td style=\"text-align: right;\">            0</td><td style=\"text-align: right;\">           0</td><td style=\"text-align: right;\">           0</td><td style=\"text-align: right;\">           0</td></tr>\n",
       "<tr><td style=\"text-align: right;\">        3</td><td style=\"text-align: right;\">            2</td><td style=\"text-align: right;\">           2</td><td style=\"text-align: right;\">           0</td><td style=\"text-align: right;\">           1</td></tr>\n",
       "<tr><td style=\"text-align: right;\">        4</td><td style=\"text-align: right;\">            3</td><td style=\"text-align: right;\">          22</td><td style=\"text-align: right;\">          18</td><td style=\"text-align: right;\">           0</td></tr>\n",
       "<tr><td style=\"text-align: right;\">        5</td><td style=\"text-align: right;\">            1</td><td style=\"text-align: right;\">           5</td><td style=\"text-align: right;\">           9</td><td style=\"text-align: right;\">           1</td></tr>\n",
       "<tr><td style=\"text-align: right;\">        6</td><td style=\"text-align: right;\">            5</td><td style=\"text-align: right;\">         nan</td><td style=\"text-align: right;\">           6</td><td style=\"text-align: right;\">           1</td></tr>\n",
       "<tr><td style=\"text-align: right;\">        7</td><td style=\"text-align: right;\">            1</td><td style=\"text-align: right;\">          18</td><td style=\"text-align: right;\">          16</td><td style=\"text-align: right;\">           0</td></tr>\n",
       "<tr><td style=\"text-align: right;\">        8</td><td style=\"text-align: right;\">            7</td><td style=\"text-align: right;\">           9</td><td style=\"text-align: right;\">           2</td><td style=\"text-align: right;\">           1</td></tr>\n",
       "<tr><td style=\"text-align: right;\">        9</td><td style=\"text-align: right;\">            1</td><td style=\"text-align: right;\">           1</td><td style=\"text-align: right;\">         nan</td><td style=\"text-align: right;\">           0</td></tr>\n",
       "<tr><td style=\"text-align: right;\">       10</td><td style=\"text-align: right;\">           32</td><td style=\"text-align: right;\">          33</td><td style=\"text-align: right;\">           1</td><td style=\"text-align: right;\">           1</td></tr>\n",
       "<tr><td style=\"text-align: right;\">       11</td><td style=\"text-align: right;\">            0</td><td style=\"text-align: right;\">           1</td><td style=\"text-align: right;\">           0</td><td style=\"text-align: right;\">           1</td></tr>\n",
       "<tr><td style=\"text-align: right;\">       12</td><td style=\"text-align: right;\">            0</td><td style=\"text-align: right;\">           0</td><td style=\"text-align: right;\">           0</td><td style=\"text-align: right;\">           0</td></tr>\n",
       "<tr><td style=\"text-align: right;\">       13</td><td style=\"text-align: right;\">           18</td><td style=\"text-align: right;\">          23</td><td style=\"text-align: right;\">          13</td><td style=\"text-align: right;\">           6</td></tr>\n",
       "<tr><td style=\"text-align: right;\">       14</td><td style=\"text-align: right;\">            0</td><td style=\"text-align: right;\">           0</td><td style=\"text-align: right;\">           1</td><td style=\"text-align: right;\">           0</td></tr>\n",
       "<tr><td style=\"text-align: right;\">       15</td><td style=\"text-align: right;\">            0</td><td style=\"text-align: right;\">           6</td><td style=\"text-align: right;\">          10</td><td style=\"text-align: right;\">           1</td></tr>\n",
       "<tr><td style=\"text-align: right;\">       16</td><td style=\"text-align: right;\">            0</td><td style=\"text-align: right;\">           0</td><td style=\"text-align: right;\">           0</td><td style=\"text-align: right;\">           0</td></tr>\n",
       "<tr><td style=\"text-align: right;\">       17</td><td style=\"text-align: right;\">           10</td><td style=\"text-align: right;\">          16</td><td style=\"text-align: right;\">           4</td><td style=\"text-align: right;\">           3</td></tr>\n",
       "<tr><td style=\"text-align: right;\">       18</td><td style=\"text-align: right;\">            1</td><td style=\"text-align: right;\">           2</td><td style=\"text-align: right;\">           0</td><td style=\"text-align: right;\">           1</td></tr>\n",
       "<tr><td style=\"text-align: right;\">       19</td><td style=\"text-align: right;\">            1</td><td style=\"text-align: right;\">         106</td><td style=\"text-align: right;\">           1</td><td style=\"text-align: right;\">           1</td></tr>\n",
       "</tbody>\n",
       "</table>"
      ],
      "text/plain": [
       "<IPython.core.display.HTML object>"
      ]
     },
     "metadata": {},
     "output_type": "display_data"
    }
   ],
   "source": [
    "dm = df.values.tolist()\n",
    "dm[6][2] = None\n",
    "dm[9][3] = None\n",
    "dfm = pd.DataFrame(dm,columns=df.columns)\n",
    "table(dfm)"
   ]
  }
 ],
 "metadata": {
  "kernelspec": {
   "display_name": "Python 3",
   "language": "python",
   "name": "python3"
  },
  "language_info": {
   "codemirror_mode": {
    "name": "ipython",
    "version": 3
   },
   "file_extension": ".py",
   "mimetype": "text/x-python",
   "name": "python",
   "nbconvert_exporter": "python",
   "pygments_lexer": "ipython3",
   "version": "3.7.3"
  }
 },
 "nbformat": 4,
 "nbformat_minor": 2
}
