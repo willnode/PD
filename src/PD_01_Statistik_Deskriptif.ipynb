{
 "cells": [
  {
   "cell_type": "markdown",
   "metadata": {},
   "source": [
    "# Statistik Deskriptif\n",
    "\n",
    "Setiap kelompok data numerik mempunyai properti tersendiri yang menjelaskan secara unik data tersebut:\n",
    "\n",
    "Sebelum mulai, mari kita mengambil beberapa sampel data"
   ]
  },
  {
   "cell_type": "code",
   "execution_count": 19,
   "metadata": {},
   "outputs": [],
   "source": [
    "import pandas as pd\n",
    "import statistics, itertools"
   ]
  },
  {
   "cell_type": "code",
   "execution_count": 20,
   "metadata": {},
   "outputs": [
    {
     "data": {
      "text/plain": [
       "0    1.5\n",
       "1    1.5\n",
       "2    1.6\n",
       "3    1.5\n",
       "4    1.8\n",
       "5    1.5\n",
       "6    1.8\n",
       "7    1.6\n",
       "8    1.8\n",
       "Name: sample, dtype: float64"
      ]
     },
     "execution_count": 20,
     "metadata": {},
     "output_type": "execute_result"
    }
   ],
   "source": [
    "df = pd.read_csv('leaf.csv', nrows=9, usecols=['Aspect Ratio']) # Ambil Sampel\n",
    "data = [round(x[0],1) for x in df.values] # Bulat-bulat\n",
    "df = pd.DataFrame(data, columns=['sample']); # Data Frame dari Sample\n",
    "dc = df['sample'] # Data set kolom sample\n",
    "dc"
   ]
  },
  {
   "cell_type": "markdown",
   "metadata": {},
   "source": [
    "Data ini dapat kita deskripsikan menggunakan properti-properti berikut.\n",
    "\n",
    "## Mean\n",
    "\n",
    "Mean adalah rata-rata dari suatu dataset. Diperoleh dari sum dataset lalu dibagi dengan jumlah elemen dataset.\n",
    "\n",
    "$$ \\overline{x}=\\frac{\\sum_{i=1}^{N} x_{i}}{N}=\\frac{x_{1}+x_{2}+\\cdots+x_{N}}{N} $$"
   ]
  },
  {
   "cell_type": "code",
   "execution_count": 21,
   "metadata": {},
   "outputs": [
    {
     "name": "stdout",
     "output_type": "stream",
     "text": [
      "Rata-rata [1.5 1.5 1.6 1.5 1.8 1.5 1.8 1.6 1.8] = 1.6222222222222222\n"
     ]
    }
   ],
   "source": [
    "print(\"Rata-rata\", dc.values, \"=\", dc.mean())"
   ]
  },
  {
   "cell_type": "markdown",
   "metadata": {},
   "source": [
    "Mean dalam built-in python:"
   ]
  },
  {
   "cell_type": "code",
   "execution_count": 22,
   "metadata": {},
   "outputs": [
    {
     "name": "stdout",
     "output_type": "stream",
     "text": [
      "Rata-rata [1.5, 1.5, 1.6, 1.5, 1.8, 1.5, 1.8, 1.6, 1.8] = 1.6222222222222222\n"
     ]
    }
   ],
   "source": [
    "print(\"Rata-rata\", data, \"=\", statistics.mean(data))"
   ]
  },
  {
   "cell_type": "markdown",
   "metadata": {},
   "source": [
    "## Median\n",
    "\n",
    "Median merupakan titik data yang paling baik apabila dataset telah diurutkan. Dalam data numerik non interval, data ke-(n-1)/2 adalah median jika n ganjil atau rata-rata dari data ke-(n/2) dan data ke-(n/2+1) jika n genap."
   ]
  },
  {
   "cell_type": "code",
   "execution_count": 28,
   "metadata": {},
   "outputs": [
    {
     "name": "stdout",
     "output_type": "stream",
     "text": [
      "Median [1.5 1.5 1.6 1.5 1.8 1.5 1.8 1.6 1.8] = 1.6\n"
     ]
    }
   ],
   "source": [
    "print(\"Median\", dc.values, \"=\", dc.median())"
   ]
  },
  {
   "cell_type": "markdown",
   "metadata": {},
   "source": [
    "Median dalam built-in python:"
   ]
  },
  {
   "cell_type": "code",
   "execution_count": 24,
   "metadata": {},
   "outputs": [
    {
     "name": "stdout",
     "output_type": "stream",
     "text": [
      "Median [1.5, 1.5, 1.6, 1.5, 1.8, 1.5, 1.8, 1.6, 1.8] = 1.6\n"
     ]
    }
   ],
   "source": [
    "print(\"Median\", data, \"=\", statistics.median(data))"
   ]
  },
  {
   "cell_type": "markdown",
   "metadata": {},
   "source": [
    "Pembuktian dengan menyortir + eliminasi data:"
   ]
  },
  {
   "cell_type": "code",
   "execution_count": 27,
   "metadata": {},
   "outputs": [
    {
     "name": "stdout",
     "output_type": "stream",
     "text": [
      "[1.5, 1.5, 1.5, 1.5, 1.6, 1.6, 1.8, 1.8, 1.8]\n",
      "[1.5, 1.5, 1.5, 1.6, 1.6, 1.8, 1.8]\n",
      "[1.5, 1.5, 1.6, 1.6, 1.8]\n",
      "[1.5, 1.6, 1.6]\n",
      "[1.6]\n"
     ]
    }
   ],
   "source": [
    "sorteddata = data[:]; sorteddata.sort(); \n",
    "print(sorteddata)\n",
    "while(len(sorteddata)>1):\n",
    "    sorteddata = sorteddata[1:-1]\n",
    "    print(sorteddata)"
   ]
  },
  {
   "cell_type": "markdown",
   "metadata": {},
   "source": [
    "## Mode\n",
    "\n",
    "Mode merupakan statistik untuk angka mana yang paling banyak frekuensinya dalam dataset. Mode bisa dalam bentuk diskrit atau kelompok.\n",
    "\n",
    "Mode (diskrik) dalam built-in python:"
   ]
  },
  {
   "cell_type": "code",
   "execution_count": 29,
   "metadata": {
    "scrolled": true
   },
   "outputs": [
    {
     "name": "stdout",
     "output_type": "stream",
     "text": [
      "Median [1.5, 1.5, 1.6, 1.5, 1.8, 1.5, 1.8, 1.6, 1.8] = 1.5\n"
     ]
    }
   ],
   "source": [
    "print(\"Median\", data, \"=\", statistics.mode(data))"
   ]
  },
  {
   "cell_type": "markdown",
   "metadata": {},
   "source": [
    "`scipy` mempunyai tool untuk mendeteksi mode secara lebih detail jika ada >1 value dengan frekuensi yang sama"
   ]
  },
  {
   "cell_type": "code",
   "execution_count": 41,
   "metadata": {},
   "outputs": [
    {
     "data": {
      "text/html": [
       "<div>\n",
       "<style scoped>\n",
       "    .dataframe tbody tr th:only-of-type {\n",
       "        vertical-align: middle;\n",
       "    }\n",
       "\n",
       "    .dataframe tbody tr th {\n",
       "        vertical-align: top;\n",
       "    }\n",
       "\n",
       "    .dataframe thead th {\n",
       "        text-align: right;\n",
       "    }\n",
       "</style>\n",
       "<table border=\"1\" class=\"dataframe\">\n",
       "  <thead>\n",
       "    <tr style=\"text-align: right;\">\n",
       "      <th></th>\n",
       "      <th>Mode</th>\n",
       "      <th>Count</th>\n",
       "    </tr>\n",
       "  </thead>\n",
       "  <tbody>\n",
       "    <tr>\n",
       "      <td>0</td>\n",
       "      <td>1.5</td>\n",
       "      <td>4.0</td>\n",
       "    </tr>\n",
       "  </tbody>\n",
       "</table>\n",
       "</div>"
      ],
      "text/plain": [
       "   Mode  Count\n",
       "0   1.5    4.0"
      ]
     },
     "execution_count": 41,
     "metadata": {},
     "output_type": "execute_result"
    }
   ],
   "source": [
    "from scipy import stats\n",
    "from numpy import transpose\n",
    "modedata = stats.mode(dc)\n",
    "pd.DataFrame(transpose([modedata.mode, modedata.count]), columns=[\"Mode\", \"Count\"])"
   ]
  },
  {
   "cell_type": "markdown",
   "metadata": {},
   "source": [
    "Gunakan `seaborn` untuk melihat frekuensi secara grafikal:"
   ]
  },
  {
   "cell_type": "code",
   "execution_count": 39,
   "metadata": {},
   "outputs": [
    {
     "data": {
      "image/png": "[encoded data removed]",
      "text/plain": [
       "<Figure size 432x288 with 1 Axes>"
      ]
     },
     "metadata": {
      "needs_background": "light"
     },
     "output_type": "display_data"
    }
   ],
   "source": [
    "from seaborn import distplot\n",
    "ax = distplot(data)"
   ]
  },
  {
   "cell_type": "markdown",
   "metadata": {},
   "source": [
    "## Range\n",
    "Range dalam suatu dataset ialah angka tertinggi dan angka terendah dalam dataset."
   ]
  },
  {
   "cell_type": "code",
   "execution_count": 44,
   "metadata": {},
   "outputs": [
    {
     "name": "stdout",
     "output_type": "stream",
     "text": [
      "Range [1.5 1.5 1.6 1.5 1.8 1.5 1.8 1.6 1.8] , Max: 1.8 Min: 1.5\n",
      "Range (Manual): 1.8 1.5\n"
     ]
    }
   ],
   "source": [
    "print(\"Range\", dc.values, \", Max:\", dc.max(), \"Min:\", dc.min())"
   ]
  },
  {
   "cell_type": "markdown",
   "metadata": {},
   "source": [
    "Range dalam built-in python:"
   ]
  },
  {
   "cell_type": "code",
   "execution_count": 45,
   "metadata": {},
   "outputs": [
    {
     "name": "stdout",
     "output_type": "stream",
     "text": [
      "Range [1.5, 1.5, 1.6, 1.5, 1.8, 1.5, 1.8, 1.6, 1.8] , Max: 1.8 Min: 1.5\n"
     ]
    }
   ],
   "source": [
    "print(\"Range\", data, \", Max:\", max(data), \"Min:\", min(data))"
   ]
  },
  {
   "cell_type": "markdown",
   "metadata": {},
   "source": [
    "## Quantile\n",
    "\n",
    "Quantil adalah jarak data yang memisahkan data sekin persen dari yang terkecil hingga tertinggi. Quantil dipisah menjadi:\n",
    "+ Q1 sebagai Quantil bawah (25%) \n",
    "+ Q2 sebagai Quantil tengah (50%)\n",
    "+ Q3 sebagai Quantil atas (75%)"
   ]
  },
  {
   "cell_type": "code",
   "execution_count": 47,
   "metadata": {},
   "outputs": [
    {
     "name": "stdout",
     "output_type": "stream",
     "text": [
      "Quantil [1.5 1.5 1.6 1.5 1.8 1.5 1.8 1.6 1.8] Q1: 1.5 Q2: 1.6 Q3: 1.8\n"
     ]
    }
   ],
   "source": [
    "print(\"Quantil\", dc.values, \"Q1:\", dc.quantile(0.25), \"Q2:\", dc.quantile(0.5), \"Q3:\", dc.quantile(0.75))"
   ]
  },
  {
   "cell_type": "markdown",
   "metadata": {},
   "source": [
    "Quantil bisa dihitung menggunakan `numpy`:"
   ]
  },
  {
   "cell_type": "code",
   "execution_count": 50,
   "metadata": {},
   "outputs": [
    {
     "name": "stdout",
     "output_type": "stream",
     "text": [
      "Quantil [1.5, 1.5, 1.6, 1.5, 1.8, 1.5, 1.8, 1.6, 1.8] Q1: 1.5 Q2: 1.6 Q3: 1.8\n"
     ]
    }
   ],
   "source": [
    "from numpy import quantile\n",
    "print(\"Quantil\", data, \"Q1:\", quantile(data, 0.25), \"Q2:\", dc.quantile(0.5), \"Q3:\", dc.quantile(0.75))"
   ]
  },
  {
   "cell_type": "markdown",
   "metadata": {},
   "source": [
    "## Variance"
   ]
  },
  {
   "cell_type": "code",
   "execution_count": 55,
   "metadata": {},
   "outputs": [
    {
     "name": "stdout",
     "output_type": "stream",
     "text": [
      "Variansi [1.5 1.5 1.6 1.5 1.8 1.5 1.8 1.6 1.8] = 0.01944444444444445\n"
     ]
    }
   ],
   "source": [
    "print(\"Variansi\", dc.values, \"=\", dc.var())"
   ]
  },
  {
   "cell_type": "code",
   "execution_count": 54,
   "metadata": {},
   "outputs": [
    {
     "name": "stdout",
     "output_type": "stream",
     "text": [
      "Variansi [1.5, 1.5, 1.6, 1.5, 1.8, 1.5, 1.8, 1.6, 1.8] = 0.01944444444444445\n"
     ]
    }
   ],
   "source": [
    "print(\"Variansi\", data, \"=\", statistics.variance(data))"
   ]
  },
  {
   "cell_type": "markdown",
   "metadata": {},
   "source": [
    "## Standar Deviasi"
   ]
  },
  {
   "cell_type": "code",
   "execution_count": 57,
   "metadata": {},
   "outputs": [
    {
     "name": "stdout",
     "output_type": "stream",
     "text": [
      "Standar Deviasi [1.5 1.5 1.6 1.5 1.8 1.5 1.8 1.6 1.8] = 0.1394433377556793\n"
     ]
    }
   ],
   "source": [
    "print(\"Standar Deviasi\", dc.values, \"=\", dc.std())"
   ]
  },
  {
   "cell_type": "code",
   "execution_count": 58,
   "metadata": {},
   "outputs": [
    {
     "name": "stdout",
     "output_type": "stream",
     "text": [
      "Variansi [1.5, 1.5, 1.6, 1.5, 1.8, 1.5, 1.8, 1.6, 1.8] = 0.1394433377556793\n"
     ]
    }
   ],
   "source": [
    "print(\"Variansi\", data, \"=\", statistics.stdev(data))"
   ]
  },
  {
   "cell_type": "markdown",
   "metadata": {},
   "source": [
    "## Summary\n",
    "\n",
    "Deskripsi Data set dalam `leaf.csv`:"
   ]
  },
  {
   "cell_type": "code",
   "execution_count": 88,
   "metadata": {},
   "outputs": [
    {
     "data": {
      "text/html": [
       "<div>\n",
       "<style scoped>\n",
       "    .dataframe tbody tr th:only-of-type {\n",
       "        vertical-align: middle;\n",
       "    }\n",
       "\n",
       "    .dataframe tbody tr th {\n",
       "        vertical-align: top;\n",
       "    }\n",
       "\n",
       "    .dataframe thead th {\n",
       "        text-align: right;\n",
       "    }\n",
       "</style>\n",
       "<table border=\"1\" class=\"dataframe\">\n",
       "  <thead>\n",
       "    <tr style=\"text-align: right;\">\n",
       "      <th></th>\n",
       "      <th>Nama Kolom</th>\n",
       "      <th>Mean</th>\n",
       "      <th>Median</th>\n",
       "      <th>Min</th>\n",
       "      <th>Max</th>\n",
       "      <th>Q1</th>\n",
       "      <th>Q2</th>\n",
       "      <th>Q3</th>\n",
       "      <th>Skew</th>\n",
       "      <th>Var</th>\n",
       "      <th>Std</th>\n",
       "    </tr>\n",
       "  </thead>\n",
       "  <tbody>\n",
       "    <tr>\n",
       "      <td>0</td>\n",
       "      <td>Class (Species)</td>\n",
       "      <td>18.544118</td>\n",
       "      <td>15.000000</td>\n",
       "      <td>1.000000</td>\n",
       "      <td>36.000000</td>\n",
       "      <td>9.000000</td>\n",
       "      <td>15.000000</td>\n",
       "      <td>29.000000</td>\n",
       "      <td>0.006848</td>\n",
       "      <td>1.243786e+02</td>\n",
       "      <td>11.152514</td>\n",
       "    </tr>\n",
       "    <tr>\n",
       "      <td>1</td>\n",
       "      <td>Specimen Number</td>\n",
       "      <td>6.282353</td>\n",
       "      <td>6.000000</td>\n",
       "      <td>1.000000</td>\n",
       "      <td>16.000000</td>\n",
       "      <td>3.000000</td>\n",
       "      <td>6.000000</td>\n",
       "      <td>9.000000</td>\n",
       "      <td>0.199752</td>\n",
       "      <td>1.199084e+01</td>\n",
       "      <td>3.462779</td>\n",
       "    </tr>\n",
       "    <tr>\n",
       "      <td>2</td>\n",
       "      <td>Eccentricity</td>\n",
       "      <td>0.719854</td>\n",
       "      <td>0.763450</td>\n",
       "      <td>0.117080</td>\n",
       "      <td>0.998710</td>\n",
       "      <td>0.550622</td>\n",
       "      <td>0.763450</td>\n",
       "      <td>0.895097</td>\n",
       "      <td>-0.559982</td>\n",
       "      <td>4.339350e-02</td>\n",
       "      <td>0.208311</td>\n",
       "    </tr>\n",
       "    <tr>\n",
       "      <td>3</td>\n",
       "      <td>Aspect Ratio</td>\n",
       "      <td>2.440210</td>\n",
       "      <td>1.570750</td>\n",
       "      <td>1.006600</td>\n",
       "      <td>19.038000</td>\n",
       "      <td>1.211300</td>\n",
       "      <td>1.570750</td>\n",
       "      <td>2.343100</td>\n",
       "      <td>3.325116</td>\n",
       "      <td>6.755023e+00</td>\n",
       "      <td>2.599043</td>\n",
       "    </tr>\n",
       "    <tr>\n",
       "      <td>4</td>\n",
       "      <td>Elongation</td>\n",
       "      <td>0.513760</td>\n",
       "      <td>0.501855</td>\n",
       "      <td>0.107610</td>\n",
       "      <td>0.948340</td>\n",
       "      <td>0.349623</td>\n",
       "      <td>0.501855</td>\n",
       "      <td>0.633373</td>\n",
       "      <td>0.337896</td>\n",
       "      <td>3.825269e-02</td>\n",
       "      <td>0.195583</td>\n",
       "    </tr>\n",
       "    <tr>\n",
       "      <td>5</td>\n",
       "      <td>Solidity</td>\n",
       "      <td>0.904158</td>\n",
       "      <td>0.948130</td>\n",
       "      <td>0.485490</td>\n",
       "      <td>0.993880</td>\n",
       "      <td>0.890667</td>\n",
       "      <td>0.948130</td>\n",
       "      <td>0.976897</td>\n",
       "      <td>-2.061296</td>\n",
       "      <td>1.314213e-02</td>\n",
       "      <td>0.114639</td>\n",
       "    </tr>\n",
       "    <tr>\n",
       "      <td>6</td>\n",
       "      <td>Stochastic Convexity</td>\n",
       "      <td>0.943793</td>\n",
       "      <td>0.992980</td>\n",
       "      <td>0.396490</td>\n",
       "      <td>1.000000</td>\n",
       "      <td>0.966230</td>\n",
       "      <td>0.992980</td>\n",
       "      <td>1.000000</td>\n",
       "      <td>-2.633235</td>\n",
       "      <td>1.323571e-02</td>\n",
       "      <td>0.115047</td>\n",
       "    </tr>\n",
       "    <tr>\n",
       "      <td>7</td>\n",
       "      <td>Isoperimetric Factor</td>\n",
       "      <td>0.531234</td>\n",
       "      <td>0.579160</td>\n",
       "      <td>0.078376</td>\n",
       "      <td>0.858160</td>\n",
       "      <td>0.346818</td>\n",
       "      <td>0.579160</td>\n",
       "      <td>0.700712</td>\n",
       "      <td>-0.476601</td>\n",
       "      <td>4.731998e-02</td>\n",
       "      <td>0.217532</td>\n",
       "    </tr>\n",
       "    <tr>\n",
       "      <td>8</td>\n",
       "      <td>Maximal Indentation Depth</td>\n",
       "      <td>0.037345</td>\n",
       "      <td>0.023860</td>\n",
       "      <td>0.002837</td>\n",
       "      <td>0.198980</td>\n",
       "      <td>0.009521</td>\n",
       "      <td>0.023860</td>\n",
       "      <td>0.047834</td>\n",
       "      <td>1.707126</td>\n",
       "      <td>1.488024e-03</td>\n",
       "      <td>0.038575</td>\n",
       "    </tr>\n",
       "    <tr>\n",
       "      <td>9</td>\n",
       "      <td>Lobedness</td>\n",
       "      <td>0.523845</td>\n",
       "      <td>0.103615</td>\n",
       "      <td>0.001464</td>\n",
       "      <td>7.206200</td>\n",
       "      <td>0.016500</td>\n",
       "      <td>0.103615</td>\n",
       "      <td>0.416433</td>\n",
       "      <td>3.116157</td>\n",
       "      <td>1.080850e+00</td>\n",
       "      <td>1.039639</td>\n",
       "    </tr>\n",
       "    <tr>\n",
       "      <td>10</td>\n",
       "      <td>Average Intensity</td>\n",
       "      <td>0.051346</td>\n",
       "      <td>0.042087</td>\n",
       "      <td>0.005022</td>\n",
       "      <td>0.190670</td>\n",
       "      <td>0.022843</td>\n",
       "      <td>0.042087</td>\n",
       "      <td>0.073046</td>\n",
       "      <td>0.939266</td>\n",
       "      <td>1.293475e-03</td>\n",
       "      <td>0.035965</td>\n",
       "    </tr>\n",
       "    <tr>\n",
       "      <td>11</td>\n",
       "      <td>Average Contrast</td>\n",
       "      <td>0.124535</td>\n",
       "      <td>0.119375</td>\n",
       "      <td>0.033415</td>\n",
       "      <td>0.280810</td>\n",
       "      <td>0.083362</td>\n",
       "      <td>0.119375</td>\n",
       "      <td>0.163795</td>\n",
       "      <td>0.465029</td>\n",
       "      <td>2.689420e-03</td>\n",
       "      <td>0.051860</td>\n",
       "    </tr>\n",
       "    <tr>\n",
       "      <td>12</td>\n",
       "      <td>Smoothness</td>\n",
       "      <td>0.017670</td>\n",
       "      <td>0.014050</td>\n",
       "      <td>0.001115</td>\n",
       "      <td>0.073089</td>\n",
       "      <td>0.006901</td>\n",
       "      <td>0.014050</td>\n",
       "      <td>0.026127</td>\n",
       "      <td>1.213389</td>\n",
       "      <td>1.892013e-04</td>\n",
       "      <td>0.013755</td>\n",
       "    </tr>\n",
       "    <tr>\n",
       "      <td>13</td>\n",
       "      <td>Third moment</td>\n",
       "      <td>0.005928</td>\n",
       "      <td>0.004447</td>\n",
       "      <td>0.000229</td>\n",
       "      <td>0.029786</td>\n",
       "      <td>0.002080</td>\n",
       "      <td>0.004447</td>\n",
       "      <td>0.008307</td>\n",
       "      <td>1.780473</td>\n",
       "      <td>2.802772e-05</td>\n",
       "      <td>0.005294</td>\n",
       "    </tr>\n",
       "    <tr>\n",
       "      <td>14</td>\n",
       "      <td>Uniformity</td>\n",
       "      <td>0.000387</td>\n",
       "      <td>0.000239</td>\n",
       "      <td>0.000007</td>\n",
       "      <td>0.002936</td>\n",
       "      <td>0.000102</td>\n",
       "      <td>0.000239</td>\n",
       "      <td>0.000516</td>\n",
       "      <td>2.125278</td>\n",
       "      <td>1.861405e-07</td>\n",
       "      <td>0.000431</td>\n",
       "    </tr>\n",
       "    <tr>\n",
       "      <td>15</td>\n",
       "      <td>Entropy</td>\n",
       "      <td>1.162630</td>\n",
       "      <td>1.077450</td>\n",
       "      <td>0.169400</td>\n",
       "      <td>2.708500</td>\n",
       "      <td>0.718900</td>\n",
       "      <td>1.077450</td>\n",
       "      <td>1.554575</td>\n",
       "      <td>0.490110</td>\n",
       "      <td>3.420539e-01</td>\n",
       "      <td>0.584854</td>\n",
       "    </tr>\n",
       "  </tbody>\n",
       "</table>\n",
       "</div>"
      ],
      "text/plain": [
       "                   Nama Kolom       Mean     Median       Min        Max  \\\n",
       "0             Class (Species)  18.544118  15.000000  1.000000  36.000000   \n",
       "1             Specimen Number   6.282353   6.000000  1.000000  16.000000   \n",
       "2                Eccentricity   0.719854   0.763450  0.117080   0.998710   \n",
       "3                Aspect Ratio   2.440210   1.570750  1.006600  19.038000   \n",
       "4                  Elongation   0.513760   0.501855  0.107610   0.948340   \n",
       "5                    Solidity   0.904158   0.948130  0.485490   0.993880   \n",
       "6        Stochastic Convexity   0.943793   0.992980  0.396490   1.000000   \n",
       "7        Isoperimetric Factor   0.531234   0.579160  0.078376   0.858160   \n",
       "8   Maximal Indentation Depth   0.037345   0.023860  0.002837   0.198980   \n",
       "9                   Lobedness   0.523845   0.103615  0.001464   7.206200   \n",
       "10          Average Intensity   0.051346   0.042087  0.005022   0.190670   \n",
       "11           Average Contrast   0.124535   0.119375  0.033415   0.280810   \n",
       "12                 Smoothness   0.017670   0.014050  0.001115   0.073089   \n",
       "13               Third moment   0.005928   0.004447  0.000229   0.029786   \n",
       "14                 Uniformity   0.000387   0.000239  0.000007   0.002936   \n",
       "15                    Entropy   1.162630   1.077450  0.169400   2.708500   \n",
       "\n",
       "          Q1         Q2         Q3      Skew           Var        Std  \n",
       "0   9.000000  15.000000  29.000000  0.006848  1.243786e+02  11.152514  \n",
       "1   3.000000   6.000000   9.000000  0.199752  1.199084e+01   3.462779  \n",
       "2   0.550622   0.763450   0.895097 -0.559982  4.339350e-02   0.208311  \n",
       "3   1.211300   1.570750   2.343100  3.325116  6.755023e+00   2.599043  \n",
       "4   0.349623   0.501855   0.633373  0.337896  3.825269e-02   0.195583  \n",
       "5   0.890667   0.948130   0.976897 -2.061296  1.314213e-02   0.114639  \n",
       "6   0.966230   0.992980   1.000000 -2.633235  1.323571e-02   0.115047  \n",
       "7   0.346818   0.579160   0.700712 -0.476601  4.731998e-02   0.217532  \n",
       "8   0.009521   0.023860   0.047834  1.707126  1.488024e-03   0.038575  \n",
       "9   0.016500   0.103615   0.416433  3.116157  1.080850e+00   1.039639  \n",
       "10  0.022843   0.042087   0.073046  0.939266  1.293475e-03   0.035965  \n",
       "11  0.083362   0.119375   0.163795  0.465029  2.689420e-03   0.051860  \n",
       "12  0.006901   0.014050   0.026127  1.213389  1.892013e-04   0.013755  \n",
       "13  0.002080   0.004447   0.008307  1.780473  2.802772e-05   0.005294  \n",
       "14  0.000102   0.000239   0.000516  2.125278  1.861405e-07   0.000431  \n",
       "15  0.718900   1.077450   1.554575  0.490110  3.420539e-01   0.584854  "
      ]
     },
     "execution_count": 88,
     "metadata": {},
     "output_type": "execute_result"
    }
   ],
   "source": [
    "adf = pd.read_csv('leaf.csv')\n",
    "adata = [[x, \n",
    "    adf[x].mean(), \n",
    "    adf[x].median(), \n",
    "    adf[x].min(), \n",
    "    adf[x].max(),\n",
    "    adf[x].quantile(0.25),\n",
    "    adf[x].quantile(0.5), \n",
    "    adf[x].quantile(0.75),\n",
    "    adf[x].skew(),\n",
    "    adf[x].var(),\n",
    "    adf[x].std()] \n",
    "        for x in adf.columns]\n",
    "\n",
    "pd.DataFrame(adata, columns=['Nama Kolom', 'Mean', 'Median', 'Min', 'Max', 'Q1', 'Q2', 'Q3', 'Skew', 'Var', 'Std'])"
   ]
  },
  {
   "cell_type": "code",
   "execution_count": null,
   "metadata": {},
   "outputs": [],
   "source": []
  }
 ],
 "metadata": {
  "kernelspec": {
   "display_name": "Python 3",
   "language": "python",
   "name": "python3"
  },
  "language_info": {
   "codemirror_mode": {
    "name": "ipython",
    "version": 3
   },
   "file_extension": ".py",
   "mimetype": "text/x-python",
   "name": "python",
   "nbconvert_exporter": "python",
   "pygments_lexer": "ipython3",
   "version": "3.7.3"
  }
 },
 "nbformat": 4,
 "nbformat_minor": 2
}
