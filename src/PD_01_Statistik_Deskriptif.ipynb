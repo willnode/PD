{
 "cells": [
  {
   "cell_type": "markdown",
   "metadata": {},
   "source": [
    "# Statistik Deskriptif\n",
    "\n",
    "Setiap kelompok data numerik mempunyai properti tersendiri yang menjelaskan secara unik data tersebut:\n",
    "\n",
    "Sebelum mulai, mari kita mengambil beberapa sampel data"
   ]
  },
  {
   "cell_type": "code",
   "execution_count": 2,
   "metadata": {},
   "outputs": [],
   "source": [
    "import pandas as pd\n",
    "import statistics, itertools\n",
    "from IPython.display import HTML, display\n",
    "from tabulate import tabulate\n",
    "\n",
    "def table(df): display(HTML(tabulate(df, tablefmt='html', headers='keys', showindex=False)))"
   ]
  },
  {
   "cell_type": "code",
   "execution_count": 3,
   "metadata": {},
   "outputs": [
    {
     "data": {
      "text/plain": [
       "0    1.5\n",
       "1    1.5\n",
       "2    1.6\n",
       "3    1.5\n",
       "4    1.8\n",
       "5    1.5\n",
       "6    1.8\n",
       "7    1.6\n",
       "8    1.8\n",
       "Name: sample, dtype: float64"
      ]
     },
     "execution_count": 3,
     "metadata": {},
     "output_type": "execute_result"
    }
   ],
   "source": [
    "df = pd.read_csv('leaf.csv', nrows=9, usecols=['Aspect Ratio']) # Ambil Sampel\n",
    "data = [round(x[0],1) for x in df.values] # Bulat-bulat\n",
    "df = pd.DataFrame(data, columns=['sample']); # Data Frame dari Sample\n",
    "dc = df['sample'] # Data set kolom sample\n",
    "dc"
   ]
  },
  {
   "cell_type": "markdown",
   "metadata": {},
   "source": [
    "Data ini dapat kita deskripsikan menggunakan properti-properti berikut.\n",
    "\n",
    "## Mean\n",
    "\n",
    "Mean adalah rata-rata dari suatu dataset. Diperoleh dari sum dataset lalu dibagi dengan jumlah elemen dataset. Biasa disimbolkan sebagai $\\mu$\n",
    "\n",
    "$$ \\overline{x}=\\frac{\\sum_{i=1}^{N} x_{i}}{N}=\\frac{x_{1}+x_{2}+\\cdots+x_{N}}{N} $$"
   ]
  },
  {
   "cell_type": "code",
   "execution_count": 4,
   "metadata": {},
   "outputs": [
    {
     "name": "stdout",
     "output_type": "stream",
     "text": [
      "Rata-rata [1.5 1.5 1.6 1.5 1.8 1.5 1.8 1.6 1.8] = 1.6222222222222222\n"
     ]
    }
   ],
   "source": [
    "print(\"Rata-rata\", dc.values, \"=\", dc.mean())"
   ]
  },
  {
   "cell_type": "markdown",
   "metadata": {},
   "source": [
    "Mean dalam built-in python:"
   ]
  },
  {
   "cell_type": "code",
   "execution_count": 5,
   "metadata": {},
   "outputs": [
    {
     "name": "stdout",
     "output_type": "stream",
     "text": [
      "Rata-rata [1.5, 1.5, 1.6, 1.5, 1.8, 1.5, 1.8, 1.6, 1.8] = 1.6222222222222222\n"
     ]
    }
   ],
   "source": [
    "print(\"Rata-rata\", data, \"=\", statistics.mean(data))"
   ]
  },
  {
   "cell_type": "markdown",
   "metadata": {},
   "source": [
    "## Median\n",
    "\n",
    "Median merupakan titik data yang paling baik apabila dataset telah diurutkan. Dalam data numerik non interval, data ke-(n-1)/2 adalah median jika n ganjil atau rata-rata dari data ke-(n/2) dan data ke-(n/2+1) jika n genap."
   ]
  },
  {
   "cell_type": "code",
   "execution_count": 6,
   "metadata": {},
   "outputs": [
    {
     "name": "stdout",
     "output_type": "stream",
     "text": [
      "Median [1.5 1.5 1.6 1.5 1.8 1.5 1.8 1.6 1.8] = 1.6\n"
     ]
    }
   ],
   "source": [
    "print(\"Median\", dc.values, \"=\", dc.median())"
   ]
  },
  {
   "cell_type": "markdown",
   "metadata": {},
   "source": [
    "Median dalam built-in python:"
   ]
  },
  {
   "cell_type": "code",
   "execution_count": 7,
   "metadata": {},
   "outputs": [
    {
     "name": "stdout",
     "output_type": "stream",
     "text": [
      "Median [1.5, 1.5, 1.6, 1.5, 1.8, 1.5, 1.8, 1.6, 1.8] = 1.6\n"
     ]
    }
   ],
   "source": [
    "print(\"Median\", data, \"=\", statistics.median(data))"
   ]
  },
  {
   "cell_type": "markdown",
   "metadata": {},
   "source": [
    "Pembuktian dengan menyortir + eliminasi data:"
   ]
  },
  {
   "cell_type": "code",
   "execution_count": 8,
   "metadata": {},
   "outputs": [
    {
     "name": "stdout",
     "output_type": "stream",
     "text": [
      "[1.5, 1.5, 1.5, 1.5, 1.6, 1.6, 1.8, 1.8, 1.8]\n",
      "[1.5, 1.5, 1.5, 1.6, 1.6, 1.8, 1.8]\n",
      "[1.5, 1.5, 1.6, 1.6, 1.8]\n",
      "[1.5, 1.6, 1.6]\n",
      "[1.6]\n"
     ]
    }
   ],
   "source": [
    "sorteddata = data[:]; sorteddata.sort(); \n",
    "print(sorteddata)\n",
    "while(len(sorteddata)>1):\n",
    "    sorteddata = sorteddata[1:-1]\n",
    "    print(sorteddata)"
   ]
  },
  {
   "cell_type": "markdown",
   "metadata": {},
   "source": [
    "## Mode\n",
    "\n",
    "Mode merupakan statistik untuk angka mana yang paling banyak frekuensinya dalam dataset. Mode bisa dalam bentuk diskrit atau kelompok.\n",
    "\n",
    "Mode (diskrik) dalam built-in python:"
   ]
  },
  {
   "cell_type": "code",
   "execution_count": 9,
   "metadata": {
    "scrolled": true
   },
   "outputs": [
    {
     "name": "stdout",
     "output_type": "stream",
     "text": [
      "Median [1.5, 1.5, 1.6, 1.5, 1.8, 1.5, 1.8, 1.6, 1.8] = 1.5\n"
     ]
    }
   ],
   "source": [
    "print(\"Median\", data, \"=\", statistics.mode(data))"
   ]
  },
  {
   "cell_type": "markdown",
   "metadata": {},
   "source": [
    "`scipy` mempunyai tool untuk mendeteksi mode secara lebih detail jika ada >1 value dengan frekuensi yang sama"
   ]
  },
  {
   "cell_type": "code",
   "execution_count": 10,
   "metadata": {},
   "outputs": [
    {
     "data": {
      "text/html": [
       "<table>\n",
       "<thead>\n",
       "<tr><th style=\"text-align: right;\">  Mode</th><th style=\"text-align: right;\">  Count</th></tr>\n",
       "</thead>\n",
       "<tbody>\n",
       "<tr><td style=\"text-align: right;\">   1.5</td><td style=\"text-align: right;\">      4</td></tr>\n",
       "</tbody>\n",
       "</table>"
      ],
      "text/plain": [
       "<IPython.core.display.HTML object>"
      ]
     },
     "metadata": {},
     "output_type": "display_data"
    }
   ],
   "source": [
    "from scipy import stats\n",
    "from numpy import transpose\n",
    "modedata = stats.mode(dc)\n",
    "table(pd.DataFrame(transpose([modedata.mode, modedata.count]), columns=[\"Mode\", \"Count\"]))"
   ]
  },
  {
   "cell_type": "markdown",
   "metadata": {},
   "source": [
    "Gunakan `seaborn` untuk melihat frekuensi secara grafikal:"
   ]
  },
  {
   "cell_type": "code",
   "execution_count": 11,
   "metadata": {},
   "outputs": [],
   "source": [
    "from seaborn import distplot\n",
    "ax = distplot(data)"
   ]
  },
  {
   "cell_type": "markdown",
   "metadata": {},
   "source": [
    "## Range\n",
    "Range dalam suatu dataset ialah angka tertinggi dan angka terendah dalam dataset."
   ]
  },
  {
   "cell_type": "code",
   "execution_count": 12,
   "metadata": {},
   "outputs": [
    {
     "name": "stdout",
     "output_type": "stream",
     "text": [
      "Range [1.5 1.5 1.6 1.5 1.8 1.5 1.8 1.6 1.8] , Max: 1.8 Min: 1.5\n"
     ]
    }
   ],
   "source": [
    "print(\"Range\", dc.values, \", Max:\", dc.max(), \"Min:\", dc.min())"
   ]
  },
  {
   "cell_type": "markdown",
   "metadata": {},
   "source": [
    "Range dalam built-in python:"
   ]
  },
  {
   "cell_type": "code",
   "execution_count": 13,
   "metadata": {},
   "outputs": [
    {
     "name": "stdout",
     "output_type": "stream",
     "text": [
      "Range [1.5, 1.5, 1.6, 1.5, 1.8, 1.5, 1.8, 1.6, 1.8] , Max: 1.8 Min: 1.5\n"
     ]
    }
   ],
   "source": [
    "print(\"Range\", data, \", Max:\", max(data), \"Min:\", min(data))"
   ]
  },
  {
   "cell_type": "markdown",
   "metadata": {},
   "source": [
    "## Quantile\n",
    "\n",
    "Quantil adalah jarak data yang memisahkan data sekin persen dari yang terkecil hingga tertinggi. Quantil dipisah menjadi:\n",
    "+ Q1 sebagai Quantil bawah (25%) \n",
    "+ Q2 sebagai Quantil tengah (50%)\n",
    "+ Q3 sebagai Quantil atas (75%)"
   ]
  },
  {
   "cell_type": "code",
   "execution_count": 14,
   "metadata": {},
   "outputs": [
    {
     "name": "stdout",
     "output_type": "stream",
     "text": [
      "Quantil [1.5 1.5 1.6 1.5 1.8 1.5 1.8 1.6 1.8] Q1: 1.5 Q2: 1.6 Q3: 1.8\n"
     ]
    }
   ],
   "source": [
    "print(\"Quantil\", dc.values, \"Q1:\", dc.quantile(0.25), \"Q2:\", dc.quantile(0.5), \"Q3:\", dc.quantile(0.75))"
   ]
  },
  {
   "cell_type": "markdown",
   "metadata": {},
   "source": [
    "Quantil bisa dihitung menggunakan `numpy`:"
   ]
  },
  {
   "cell_type": "code",
   "execution_count": 15,
   "metadata": {},
   "outputs": [
    {
     "name": "stdout",
     "output_type": "stream",
     "text": [
      "Quantil [1.5, 1.5, 1.6, 1.5, 1.8, 1.5, 1.8, 1.6, 1.8] Q1: 1.5 Q2: 1.6 Q3: 1.8\n"
     ]
    }
   ],
   "source": [
    "from numpy import quantile\n",
    "print(\"Quantil\", data, \"Q1:\", quantile(data, 0.25), \"Q2:\", dc.quantile(0.5), \"Q3:\", dc.quantile(0.75))"
   ]
  },
  {
   "cell_type": "markdown",
   "metadata": {},
   "source": [
    "## Variance\n",
    "\n",
    "Properti tentang seberapa jauh nilai dari rata-rata (alias variasi). Biasa disimbolkan $\\sigma^2$"
   ]
  },
  {
   "cell_type": "code",
   "execution_count": 16,
   "metadata": {},
   "outputs": [
    {
     "name": "stdout",
     "output_type": "stream",
     "text": [
      "Variansi [1.5 1.5 1.6 1.5 1.8 1.5 1.8 1.6 1.8] = 0.01944444444444445\n"
     ]
    }
   ],
   "source": [
    "print(\"Variansi\", dc.values, \"=\", dc.var())"
   ]
  },
  {
   "cell_type": "code",
   "execution_count": 17,
   "metadata": {},
   "outputs": [
    {
     "name": "stdout",
     "output_type": "stream",
     "text": [
      "Variansi [1.5, 1.5, 1.6, 1.5, 1.8, 1.5, 1.8, 1.6, 1.8] = 0.01944444444444445\n"
     ]
    }
   ],
   "source": [
    "print(\"Variansi\", data, \"=\", statistics.variance(data))"
   ]
  },
  {
   "cell_type": "markdown",
   "metadata": {},
   "source": [
    "## Standar Deviasi\n",
    "\n",
    "Standar nilai tentang seberapa jauh data dari mean. Rumus:\n",
    "\n",
    "$$ \\sqrt{\\frac{\\sum_{i=1}^n\\left(x_i-\\overline{x}\\right)^2}{n-1}} $$"
   ]
  },
  {
   "cell_type": "code",
   "execution_count": 18,
   "metadata": {},
   "outputs": [
    {
     "name": "stdout",
     "output_type": "stream",
     "text": [
      "Standar Deviasi [1.5 1.5 1.6 1.5 1.8 1.5 1.8 1.6 1.8] = 0.1394433377556793\n"
     ]
    }
   ],
   "source": [
    "print(\"Standar Deviasi\", dc.values, \"=\", dc.std())"
   ]
  },
  {
   "cell_type": "code",
   "execution_count": 19,
   "metadata": {},
   "outputs": [
    {
     "name": "stdout",
     "output_type": "stream",
     "text": [
      "Variansi [1.5, 1.5, 1.6, 1.5, 1.8, 1.5, 1.8, 1.6, 1.8] = 0.1394433377556793\n"
     ]
    }
   ],
   "source": [
    "print(\"Variansi\", data, \"=\", statistics.stdev(data))"
   ]
  },
  {
   "cell_type": "markdown",
   "metadata": {},
   "source": [
    "## Summary\n",
    "\n",
    "Deskripsi Data set dalam `leaf.csv`:"
   ]
  },
  {
   "cell_type": "code",
   "execution_count": 20,
   "metadata": {},
   "outputs": [
    {
     "data": {
      "text/html": [
       "<table>\n",
       "<thead>\n",
       "<tr><th>Nama Kolom               </th><th style=\"text-align: right;\">  Mean</th><th style=\"text-align: right;\">  Median</th><th style=\"text-align: right;\">  Min</th><th style=\"text-align: right;\">  Max</th><th style=\"text-align: right;\">  Skew</th><th style=\"text-align: right;\">  Var</th><th style=\"text-align: right;\">  Std</th></tr>\n",
       "</thead>\n",
       "<tbody>\n",
       "<tr><td>Specimen Number          </td><td style=\"text-align: right;\">  6.28</td><td style=\"text-align: right;\">    6   </td><td style=\"text-align: right;\"> 1   </td><td style=\"text-align: right;\">16   </td><td style=\"text-align: right;\">  0.2 </td><td style=\"text-align: right;\">11.99</td><td style=\"text-align: right;\"> 3.46</td></tr>\n",
       "<tr><td>Eccentricity             </td><td style=\"text-align: right;\">  0.72</td><td style=\"text-align: right;\">    0.76</td><td style=\"text-align: right;\"> 0.12</td><td style=\"text-align: right;\"> 1   </td><td style=\"text-align: right;\"> -0.56</td><td style=\"text-align: right;\"> 0.04</td><td style=\"text-align: right;\"> 0.21</td></tr>\n",
       "<tr><td>Aspect Ratio             </td><td style=\"text-align: right;\">  2.44</td><td style=\"text-align: right;\">    1.57</td><td style=\"text-align: right;\"> 1.01</td><td style=\"text-align: right;\">19.04</td><td style=\"text-align: right;\">  3.33</td><td style=\"text-align: right;\"> 6.76</td><td style=\"text-align: right;\"> 2.6 </td></tr>\n",
       "<tr><td>Elongation               </td><td style=\"text-align: right;\">  0.51</td><td style=\"text-align: right;\">    0.5 </td><td style=\"text-align: right;\"> 0.11</td><td style=\"text-align: right;\"> 0.95</td><td style=\"text-align: right;\">  0.34</td><td style=\"text-align: right;\"> 0.04</td><td style=\"text-align: right;\"> 0.2 </td></tr>\n",
       "<tr><td>Solidity                 </td><td style=\"text-align: right;\">  0.9 </td><td style=\"text-align: right;\">    0.95</td><td style=\"text-align: right;\"> 0.49</td><td style=\"text-align: right;\"> 0.99</td><td style=\"text-align: right;\"> -2.06</td><td style=\"text-align: right;\"> 0.01</td><td style=\"text-align: right;\"> 0.11</td></tr>\n",
       "<tr><td>Stochastic Convexity     </td><td style=\"text-align: right;\">  0.94</td><td style=\"text-align: right;\">    0.99</td><td style=\"text-align: right;\"> 0.4 </td><td style=\"text-align: right;\"> 1   </td><td style=\"text-align: right;\"> -2.63</td><td style=\"text-align: right;\"> 0.01</td><td style=\"text-align: right;\"> 0.12</td></tr>\n",
       "<tr><td>Isoperimetric Factor     </td><td style=\"text-align: right;\">  0.53</td><td style=\"text-align: right;\">    0.58</td><td style=\"text-align: right;\"> 0.08</td><td style=\"text-align: right;\"> 0.86</td><td style=\"text-align: right;\"> -0.48</td><td style=\"text-align: right;\"> 0.05</td><td style=\"text-align: right;\"> 0.22</td></tr>\n",
       "<tr><td>Maximal Indentation Depth</td><td style=\"text-align: right;\">  0.04</td><td style=\"text-align: right;\">    0.02</td><td style=\"text-align: right;\"> 0   </td><td style=\"text-align: right;\"> 0.2 </td><td style=\"text-align: right;\">  1.71</td><td style=\"text-align: right;\"> 0   </td><td style=\"text-align: right;\"> 0.04</td></tr>\n",
       "<tr><td>Lobedness                </td><td style=\"text-align: right;\">  0.52</td><td style=\"text-align: right;\">    0.1 </td><td style=\"text-align: right;\"> 0   </td><td style=\"text-align: right;\"> 7.21</td><td style=\"text-align: right;\">  3.12</td><td style=\"text-align: right;\"> 1.08</td><td style=\"text-align: right;\"> 1.04</td></tr>\n",
       "<tr><td>Average Intensity        </td><td style=\"text-align: right;\">  0.05</td><td style=\"text-align: right;\">    0.04</td><td style=\"text-align: right;\"> 0.01</td><td style=\"text-align: right;\"> 0.19</td><td style=\"text-align: right;\">  0.94</td><td style=\"text-align: right;\"> 0   </td><td style=\"text-align: right;\"> 0.04</td></tr>\n",
       "<tr><td>Average Contrast         </td><td style=\"text-align: right;\">  0.12</td><td style=\"text-align: right;\">    0.12</td><td style=\"text-align: right;\"> 0.03</td><td style=\"text-align: right;\"> 0.28</td><td style=\"text-align: right;\">  0.47</td><td style=\"text-align: right;\"> 0   </td><td style=\"text-align: right;\"> 0.05</td></tr>\n",
       "<tr><td>Smoothness               </td><td style=\"text-align: right;\">  0.02</td><td style=\"text-align: right;\">    0.01</td><td style=\"text-align: right;\"> 0   </td><td style=\"text-align: right;\"> 0.07</td><td style=\"text-align: right;\">  1.21</td><td style=\"text-align: right;\"> 0   </td><td style=\"text-align: right;\"> 0.01</td></tr>\n",
       "<tr><td>Third moment             </td><td style=\"text-align: right;\">  0.01</td><td style=\"text-align: right;\">    0   </td><td style=\"text-align: right;\"> 0   </td><td style=\"text-align: right;\"> 0.03</td><td style=\"text-align: right;\">  1.78</td><td style=\"text-align: right;\"> 0   </td><td style=\"text-align: right;\"> 0.01</td></tr>\n",
       "<tr><td>Uniformity               </td><td style=\"text-align: right;\">  0   </td><td style=\"text-align: right;\">    0   </td><td style=\"text-align: right;\"> 0   </td><td style=\"text-align: right;\"> 0   </td><td style=\"text-align: right;\">  2.13</td><td style=\"text-align: right;\"> 0   </td><td style=\"text-align: right;\"> 0   </td></tr>\n",
       "<tr><td>Entropy                  </td><td style=\"text-align: right;\">  1.16</td><td style=\"text-align: right;\">    1.08</td><td style=\"text-align: right;\"> 0.17</td><td style=\"text-align: right;\"> 2.71</td><td style=\"text-align: right;\">  0.49</td><td style=\"text-align: right;\"> 0.34</td><td style=\"text-align: right;\"> 0.58</td></tr>\n",
       "</tbody>\n",
       "</table>"
      ],
      "text/plain": [
       "<IPython.core.display.HTML object>"
      ]
     },
     "metadata": {},
     "output_type": "display_data"
    }
   ],
   "source": [
    "adf = pd.read_csv('leaf.csv')\n",
    "adata = [[x, \n",
    "    '{:.2f}'.format(adf[x].mean()), \n",
    "    '{:.2f}'.format(adf[x].median()), \n",
    "    '{:.2f}'.format(adf[x].min()), \n",
    "    '{:.2f}'.format(adf[x].max()),\n",
    "    '{:.2f}'.format(adf[x].skew()),\n",
    "    '{:.2f}'.format(adf[x].var()),\n",
    "    '{:.2f}'.format(adf[x].std())] \n",
    "        for x in adf.columns[1:]]\n",
    "\n",
    "table(pd.DataFrame(adata, columns=['Nama Kolom', 'Mean', 'Median', 'Min', 'Max', 'Skew', 'Var', 'Std']))"
   ]
  },
  {
   "cell_type": "code",
   "execution_count": null,
   "metadata": {},
   "outputs": [],
   "source": []
  }
 ],
 "metadata": {
  "kernelspec": {
   "display_name": "Python 3",
   "language": "python",
   "name": "python3"
  },
  "language_info": {
   "codemirror_mode": {
    "name": "ipython",
    "version": 3
   },
   "file_extension": ".py",
   "mimetype": "text/x-python",
   "name": "python",
   "nbconvert_exporter": "python",
   "pygments_lexer": "ipython3",
   "version": "3.7.3"
  }
 },
 "nbformat": 4,
 "nbformat_minor": 2
}
