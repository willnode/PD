{
 "cells": [
  {
   "cell_type": "markdown",
   "metadata": {},
   "source": [
    "# Fuzzy C-Mean Clustering\n",
    "\n",
    "Fuzzy adalah clustering menggunakan derajat keanggotaan dengan pendekatan incremental.\n",
    "\n",
    "## Steps\n",
    "\n",
    "#### 1. Persiapkan Environment:"
   ]
  },
  {
   "cell_type": "code",
   "execution_count": 267,
   "metadata": {},
   "outputs": [],
   "source": [
    "from pandas import DataFrame\n",
    "import random\n",
    "import numpy as np\n",
    "from IPython.display import HTML, display\n",
    "from tabulate import tabulate\n",
    "from math import log\n",
    "from sklearn.feature_selection import mutual_info_classif\n",
    "\n",
    "def table(df): display(HTML(tabulate(df, tablefmt='html', headers='keys', showindex=False)))"
   ]
  },
  {
   "cell_type": "markdown",
   "metadata": {},
   "source": [
    "####  2. Persiapkan Input Data (D = m x n):\n",
    "\n",
    "  + `n`: Jumlah Sampel\n",
    "  + `m`: Jumlah Fitur\n",
    "  + `c`: Jumlah Cluster\n",
    "  + `w`: Tingkat blur/fuzzy (biasanya 2)\n",
    "  + `T`: Batas maks Iterasi (biasanya 10)\n",
    "  + `e`: Akurasi (biasanya 0.1)\n",
    "  + `Pt`: Fungsi Objektif ke-t\n",
    "  + `t`: Iterasi ke-t"
   ]
  },
  {
   "cell_type": "code",
   "execution_count": 268,
   "metadata": {},
   "outputs": [
    {
     "name": "stdout",
     "output_type": "stream",
     "text": [
      "Table (D) >>\n"
     ]
    },
    {
     "data": {
      "text/html": [
       "<table>\n",
       "<thead>\n",
       "<tr><th style=\"text-align: right;\">      0</th><th style=\"text-align: right;\">      1</th><th style=\"text-align: right;\">        2</th><th style=\"text-align: right;\">      3</th></tr>\n",
       "</thead>\n",
       "<tbody>\n",
       "<tr><td style=\"text-align: right;\">0.99593</td><td style=\"text-align: right;\">0.80662</td><td style=\"text-align: right;\">2.7342   </td><td style=\"text-align: right;\">0.27303</td></tr>\n",
       "<tr><td style=\"text-align: right;\">0.50692</td><td style=\"text-align: right;\">0.53024</td><td style=\"text-align: right;\">3.0788   </td><td style=\"text-align: right;\">0.67289</td></tr>\n",
       "<tr><td style=\"text-align: right;\">0.24465</td><td style=\"text-align: right;\">0.56524</td><td style=\"text-align: right;\">2.854    </td><td style=\"text-align: right;\">0.8331 </td></tr>\n",
       "<tr><td style=\"text-align: right;\">0.86545</td><td style=\"text-align: right;\">0.82443</td><td style=\"text-align: right;\">0.40204  </td><td style=\"text-align: right;\">1.0136 </td></tr>\n",
       "<tr><td style=\"text-align: right;\">0.82866</td><td style=\"text-align: right;\">0.9418 </td><td style=\"text-align: right;\">0.11857  </td><td style=\"text-align: right;\">1.8038 </td></tr>\n",
       "<tr><td style=\"text-align: right;\">0.72719</td><td style=\"text-align: right;\">0.99388</td><td style=\"text-align: right;\">0.0016019</td><td style=\"text-align: right;\">0.9805 </td></tr>\n",
       "</tbody>\n",
       "</table>"
      ],
      "text/plain": [
       "<IPython.core.display.HTML object>"
      ]
     },
     "metadata": {},
     "output_type": "display_data"
    }
   ],
   "source": [
    "Data = read_csv('leaf.csv', sep=',')\n",
    "Data = Data[['Eccentricity','Solidity', 'Lobedness', 'Entropy']].sample(6, random_state=42)\n",
    "D = Data.values\n",
    "print(\"Table (D) >>\")\n",
    "table(D)"
   ]
  },
  {
   "cell_type": "code",
   "execution_count": 269,
   "metadata": {},
   "outputs": [
    {
     "name": "stdout",
     "output_type": "stream",
     "text": [
      "Variables >>\n",
      " n = 6\n",
      " m = 4\n",
      " c = 3\n",
      " w = 2\n",
      " T = 10\n",
      " e = 0.100000\n",
      " P0 = 0\n",
      " t = 1\n"
     ]
    }
   ],
   "source": [
    "n, m, c, w, T, e, P0, t = *D.shape, 3, 2, 10, 0.1, 0, 1\n",
    "print(\"Variables >>\")\n",
    "print(\" n = %d\\n m = %d\\n c = %d\\n w = %d\\n T = %d\\n e = %f\\n P0 = %d\\n t = %d\" % (n, m, c, w, T, e, P0, t))"
   ]
  },
  {
   "cell_type": "markdown",
   "metadata": {},
   "source": [
    "####  3. Siapkan Matrik Derajat Kluster (U = c x n):\n",
    "\n",
    "Data diisi dengan random atau hasil iterasi lama"
   ]
  },
  {
   "cell_type": "code",
   "execution_count": 278,
   "metadata": {},
   "outputs": [
    {
     "name": "stdout",
     "output_type": "stream",
     "text": [
      "U >>\n",
      "\n",
      "[[0.6394268  0.02501076 0.27502932]\n",
      " [0.22321074 0.73647121 0.67669949]\n",
      " [0.89217957 0.08693883 0.42192182]\n",
      " [0.02979722 0.21863797 0.50535529]\n",
      " [0.02653597 0.19883765 0.64988444]\n",
      " [0.54494148 0.22044062 0.58926568]]\n"
     ]
    }
   ],
   "source": [
    "random.seed(42)\n",
    "U = np.array([[random.uniform(0, 1) for _ in range(c)] for _ in range(n)])\n",
    "print(\"U >>\\n\")\n",
    "print(U)"
   ]
  },
  {
   "cell_type": "markdown",
   "metadata": {},
   "source": [
    "#### 4. Hitung Centroid Tiap Cluster (V = m x c):\n",
    "\n",
    "$$ V_{xy} = \\frac{\\sum^n_{i=1}(U_{iy})^w\\times{D_{ix}}}{\\sum^n_{i=1}(U_{iy})^w} $$"
   ]
  },
  {
   "cell_type": "code",
   "execution_count": 277,
   "metadata": {},
   "outputs": [
    {
     "name": "stdout",
     "output_type": "stream",
     "text": [
      "V >>\n",
      "\n",
      "[[0.54370379 0.70992788 2.28168401 0.7092545 ]\n",
      " [0.56356398 0.60788268 2.50132412 0.78491767]\n",
      " [0.67635682 0.7819355  1.31182068 1.05856209]]\n"
     ]
    }
   ],
   "source": [
    "# Caution: NP Array is math-agnostic (column-by-column)\n",
    "def cluster(U, D, x, y): return sum([U[i,y]**w*D[i,x] for i in range(n)])/sum([U[i,y]**w for i in range(n)])\n",
    "V = np.array([[cluster(U,D,x,y) for x in range(m)] for y in range(c)])\n",
    "print(\"V >>\\n\")\n",
    "print(V)"
   ]
  },
  {
   "cell_type": "markdown",
   "metadata": {},
   "source": [
    "#### 5. Hitung Fungsi Objektif pada t (Pt)\n",
    "\n",
    "$$ P_t = \\sum^n_{i=1}\\sum^c_{k=1}\\left(\\left[\\sum^m_{j=1}\\left(D_{ij}-V_{kj}\\right)^2\\right](U_{ik})^w\\right) $$"
   ]
  },
  {
   "cell_type": "code",
   "execution_count": 276,
   "metadata": {},
   "outputs": [
    {
     "name": "stdout",
     "output_type": "stream",
     "text": [
      "Pt >>\n",
      "\n",
      "7.165764247017886\n"
     ]
    }
   ],
   "source": [
    "def objective(V,U,D): return sum([sum([sum([(D[i,j]-V[k,j])**2 for j in range(m)])*(U[i,k]**w) for k in range(c)]) for i in range(n)])\n",
    "Pt = objective(V,U,D)\n",
    "print(\"Pt >>\\n\")\n",
    "print(Pt)"
   ]
  },
  {
   "cell_type": "markdown",
   "metadata": {},
   "source": [
    "#### 6. Hitung Ulang Matrik Derajat Kluster (U = c x n):\n",
    "\n",
    "$$ U_{ik} = \\frac{\\left[\\sum^m_{j=1}(D_{ij}-V_{kj})^2\\right]^{\\frac{-1}{w-1}}}{\\sum^c_{k=1}\\left[\\sum^m_{j=1}(D_{ij}-V_{kj})^2\\right]^{\\frac{-1}{w-1}}} $$"
   ]
  },
  {
   "cell_type": "code",
   "execution_count": 273,
   "metadata": {},
   "outputs": [
    {
     "data": {
      "text/plain": [
       "array([[0.42661745, 0.47867606, 0.09470648],\n",
       "       [0.32401778, 0.61139512, 0.0645871 ],\n",
       "       [0.31857727, 0.62718924, 0.05423349],\n",
       "       [0.16315857, 0.13281473, 0.7040267 ],\n",
       "       [0.20677417, 0.18023246, 0.61299337],\n",
       "       [0.20507176, 0.17092863, 0.62399961]])"
      ]
     },
     "execution_count": 273,
     "metadata": {},
     "output_type": "execute_result"
    }
   ],
   "source": [
    "def converge(V,D,i,k): return (sum([(D[i,j]-V[k,j])**2 for j in range(m)])**(-1/(w-1)))/sum([sum([(D[i,j]-V[k,j])**2 for j in range(m)])**(-1/(w-1)) for k in range(c)])\n",
    "print(\"U >>\\n\")\n",
    "np.array([[converge(V,D,i,k) for k in range(c)] for i in range(n)])"
   ]
  },
  {
   "cell_type": "markdown",
   "metadata": {},
   "source": [
    "#### 7. Cek Berhenti Atau Loop Kembali\n",
    "\n",
    "Jika $ P_t - P_{t-1} < e $ atau $ t >= T $ maka **BERHENTI**\n",
    "\n",
    "Jika tidak, ulangi langkah dari **Hitung Centroid Tiap Cluster** "
   ]
  },
  {
   "cell_type": "code",
   "execution_count": 274,
   "metadata": {},
   "outputs": [
    {
     "name": "stdout",
     "output_type": "stream",
     "text": [
      "Iterating 5 times, fuzzy result >> \n",
      "\n",
      "[[9.99946808e-01 4.84760420e-05 4.71615530e-06]\n",
      " [5.97625571e-02 9.36333265e-01 3.90417747e-03]\n",
      " [3.61938911e-02 9.59438085e-01 4.36802436e-03]\n",
      " [1.97778963e-02 1.70437266e-02 9.63178377e-01]\n",
      " [3.11702255e-02 3.00196318e-02 9.38810143e-01]\n",
      " [1.40843238e-02 1.23997912e-02 9.73515885e-01]]\n"
     ]
    }
   ],
   "source": [
    "def iterate(U):\n",
    "    V = np.array([[cluster(U, D, x, y) for x in range(m)] for y in range(c)])\n",
    "    return np.array([[converge(V,D,i,k) for k in range(c)] for i in range(n)]), objective(V,U,D)\n",
    "\n",
    "def fuzzyCM(U):\n",
    "    #U = np.array([[random.uniform(0, 1) for _ in range(c)] for _ in range(n)])\n",
    "    \n",
    "    U, P2, P, t = *iterate(U), 0, 1\n",
    "    while abs(P2 - P) > e and t < T:\n",
    "        U, P2, P, t = *iterate(U), P2, t+1\n",
    "    return U, t\n",
    "\n",
    "FuzzyResult, FuzzyIters = fuzzyCM(U)\n",
    "print(\"Iterating %d times, fuzzy result >> \\n\" % FuzzyIters)\n",
    "print(FuzzyResult)"
   ]
  },
  {
   "cell_type": "markdown",
   "metadata": {},
   "source": [
    "#### 8. Ambil Nilai Terbesar pada Kolom Sebagai Cluster pada setiap Record Data"
   ]
  },
  {
   "cell_type": "code",
   "execution_count": 275,
   "metadata": {},
   "outputs": [
    {
     "data": {
      "text/html": [
       "<table>\n",
       "<thead>\n",
       "<tr><th style=\"text-align: right;\">  Eccentricity</th><th style=\"text-align: right;\">  Solidity</th><th style=\"text-align: right;\">  Lobedness</th><th style=\"text-align: right;\">  Entropy</th><th style=\"text-align: right;\">  Cluster Index</th></tr>\n",
       "</thead>\n",
       "<tbody>\n",
       "<tr><td style=\"text-align: right;\">       0.99593</td><td style=\"text-align: right;\">   0.80662</td><td style=\"text-align: right;\">  2.7342   </td><td style=\"text-align: right;\">  0.27303</td><td style=\"text-align: right;\">              0</td></tr>\n",
       "<tr><td style=\"text-align: right;\">       0.50692</td><td style=\"text-align: right;\">   0.53024</td><td style=\"text-align: right;\">  3.0788   </td><td style=\"text-align: right;\">  0.67289</td><td style=\"text-align: right;\">              1</td></tr>\n",
       "<tr><td style=\"text-align: right;\">       0.24465</td><td style=\"text-align: right;\">   0.56524</td><td style=\"text-align: right;\">  2.854    </td><td style=\"text-align: right;\">  0.8331 </td><td style=\"text-align: right;\">              1</td></tr>\n",
       "<tr><td style=\"text-align: right;\">       0.86545</td><td style=\"text-align: right;\">   0.82443</td><td style=\"text-align: right;\">  0.40204  </td><td style=\"text-align: right;\">  1.0136 </td><td style=\"text-align: right;\">              2</td></tr>\n",
       "<tr><td style=\"text-align: right;\">       0.82866</td><td style=\"text-align: right;\">   0.9418 </td><td style=\"text-align: right;\">  0.11857  </td><td style=\"text-align: right;\">  1.8038 </td><td style=\"text-align: right;\">              2</td></tr>\n",
       "<tr><td style=\"text-align: right;\">       0.72719</td><td style=\"text-align: right;\">   0.99388</td><td style=\"text-align: right;\">  0.0016019</td><td style=\"text-align: right;\">  0.9805 </td><td style=\"text-align: right;\">              2</td></tr>\n",
       "</tbody>\n",
       "</table>"
      ],
      "text/plain": [
       "<IPython.core.display.HTML object>"
      ]
     },
     "metadata": {},
     "output_type": "display_data"
    }
   ],
   "source": [
    "table(DataFrame([D[i].tolist()+[np.argmax(FuzzyResult[i].tolist())] for i in range(n)], columns=Data.columns.tolist()+[\"Cluster Index\"]))"
   ]
  }
 ],
 "metadata": {
  "kernelspec": {
   "display_name": "Python 3",
   "language": "python",
   "name": "python3"
  },
  "language_info": {
   "codemirror_mode": {
    "name": "ipython",
    "version": 3
   },
   "file_extension": ".py",
   "mimetype": "text/x-python",
   "name": "python",
   "nbconvert_exporter": "python",
   "pygments_lexer": "ipython3",
   "version": "3.7.3"
  }
 },
 "nbformat": 4,
 "nbformat_minor": 2
}
