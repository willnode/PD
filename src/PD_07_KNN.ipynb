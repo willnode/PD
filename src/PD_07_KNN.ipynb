{
 "cells": [
  {
   "cell_type": "markdown",
   "metadata": {},
   "source": [
    "\n",
    "# K-NN\n",
    "\n",
    "K-NN: K-Nearest Neighborhood\n",
    "\n",
    "WIP"
   ]
  },
  {
   "cell_type": "markdown",
   "metadata": {},
   "source": [
    "## Weighted KNN"
   ]
  },
  {
   "cell_type": "markdown",
   "metadata": {},
   "source": [
    "[Download Sheet Example](https://drive.google.com/open?id=1J8rFLHJ12GdAWKKIr_TeS0Iju8G8gmpHQ7sF5_maNLY)",
    "\n",
    "<iframe src=\"https://docs.google.com/spreadsheets/d/e/2PACX-1vSebg9LDAyJuC0uO8I5DB0wOe8Vqsz7qYQ42MkHia0uGJ8chw1pv8_eFO8tPIyFSrYIjgz7JyRAUOqW/pubhtml?widget=false&amp;headers=true\" width=\"100%\" height=\"600px\">Iframe sandboxed</iframe>\n",
    "\n"
   ]
  }
 ],
 "metadata": {
  "kernelspec": {
   "display_name": "Python 3",
   "language": "python",
   "name": "python3"
  },
  "language_info": {
   "codemirror_mode": {
    "name": "ipython",
    "version": 3
   },
   "file_extension": ".py",
   "mimetype": "text/x-python",
   "name": "python",
   "nbconvert_exporter": "python",
   "pygments_lexer": "ipython3",
   "version": "3.7.3"
  }
 },
 "nbformat": 4,
 "nbformat_minor": 2
}
