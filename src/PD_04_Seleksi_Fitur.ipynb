{
 "cells": [
  {
   "cell_type": "markdown",
   "metadata": {},
   "source": [
    "# Seleksi Fitur"
   ]
  },
  {
   "cell_type": "markdown",
   "metadata": {},
   "source": [
    "Kita dapat menghitung \"seberapa berharga\" fitur X dalam data melalui Feature Gain. Dengan demikian, fitur terlalu banyak bisa dikurangi."
   ]
  },
  {
   "cell_type": "code",
   "execution_count": 2,
   "metadata": {},
   "outputs": [],
   "source": [
    "from pandas import *\n",
    "from IPython.display import HTML, display\n",
    "from tabulate import tabulate\n",
    "from math import log\n",
    "from sklearn.feature_selection import mutual_info_classif\n",
    "\n",
    "def table(df): display(HTML(tabulate(df, tablefmt='html', headers='keys', showindex=False)))"
   ]
  },
  {
   "cell_type": "markdown",
   "metadata": {},
   "source": [
    "Mari kita ambil beberapa sampel:"
   ]
  },
  {
   "cell_type": "code",
   "execution_count": 3,
   "metadata": {
    "scrolled": false
   },
   "outputs": [
    {
     "data": {
      "text/html": [
       "<table>\n",
       "<thead>\n",
       "<tr><th>outlook  </th><th>temperature  </th><th>humidity  </th><th>windy  </th><th>play  </th></tr>\n",
       "</thead>\n",
       "<tbody>\n",
       "<tr><td>sunny    </td><td>hot          </td><td>high      </td><td>False  </td><td>no    </td></tr>\n",
       "<tr><td>sunny    </td><td>hot          </td><td>high      </td><td>True   </td><td>no    </td></tr>\n",
       "<tr><td>overcast </td><td>hot          </td><td>high      </td><td>False  </td><td>yes   </td></tr>\n",
       "<tr><td>rainy    </td><td>mild         </td><td>high      </td><td>False  </td><td>yes   </td></tr>\n",
       "<tr><td>rainy    </td><td>cool         </td><td>normal    </td><td>False  </td><td>yes   </td></tr>\n",
       "<tr><td>rainy    </td><td>cool         </td><td>normal    </td><td>True   </td><td>no    </td></tr>\n",
       "<tr><td>overcast </td><td>cool         </td><td>normal    </td><td>True   </td><td>yes   </td></tr>\n",
       "<tr><td>sunny    </td><td>mild         </td><td>high      </td><td>False  </td><td>no    </td></tr>\n",
       "<tr><td>sunny    </td><td>cool         </td><td>normal    </td><td>False  </td><td>yes   </td></tr>\n",
       "<tr><td>rainy    </td><td>mild         </td><td>normal    </td><td>False  </td><td>yes   </td></tr>\n",
       "<tr><td>sunny    </td><td>mild         </td><td>normal    </td><td>True   </td><td>yes   </td></tr>\n",
       "<tr><td>overcast </td><td>mild         </td><td>high      </td><td>True   </td><td>yes   </td></tr>\n",
       "<tr><td>overcast </td><td>hot          </td><td>normal    </td><td>False  </td><td>yes   </td></tr>\n",
       "<tr><td>rainy    </td><td>mild         </td><td>high      </td><td>True   </td><td>no    </td></tr>\n",
       "</tbody>\n",
       "</table>"
      ],
      "text/plain": [
       "<IPython.core.display.HTML object>"
      ]
     },
     "metadata": {},
     "output_type": "display_data"
    }
   ],
   "source": [
    "df = read_csv('play.csv', sep=';')\n",
    "table(df)"
   ]
  },
  {
   "cell_type": "markdown",
   "metadata": {},
   "source": [
    "## Entropy Target\n",
    "\n",
    "Entropy (keberagaman) kolom target:\n",
    "\n",
    "$$ E(T) = \\sum_{i=1}^n {-P_i\\log{P_i}} $$\n",
    "\n",
    "\n",
    "dimana $P$ = Rasio Peluang muncul dalam record"
   ]
  },
  {
   "cell_type": "code",
   "execution_count": 4,
   "metadata": {},
   "outputs": [
    {
     "data": {
      "text/html": [
       "<table>\n",
       "<thead>\n",
       "<tr><th>value  </th><th style=\"text-align: right;\">  count</th><th style=\"text-align: right;\">  probability</th></tr>\n",
       "</thead>\n",
       "<tbody>\n",
       "<tr><td>no     </td><td style=\"text-align: right;\">      5</td><td style=\"text-align: right;\">     0.357143</td></tr>\n",
       "<tr><td>yes    </td><td style=\"text-align: right;\">      9</td><td style=\"text-align: right;\">     0.642857</td></tr>\n",
       "</tbody>\n",
       "</table>"
      ],
      "text/plain": [
       "<IPython.core.display.HTML object>"
      ]
     },
     "metadata": {},
     "output_type": "display_data"
    },
    {
     "name": "stdout",
     "output_type": "stream",
     "text": [
      "entropy target = 0.9402859586706309\n"
     ]
    }
   ],
   "source": [
    "def findEntropy(column):\n",
    "    rawGroups = df.groupby(column)\n",
    "    targetGroups = [[key, len(data), len(data)/df[column].size] for key,data in rawGroups]\n",
    "    targetGroups = DataFrame(targetGroups, columns=['value', 'count', 'probability'])\n",
    "    return sum([-x*log(x,2) for x in targetGroups['probability']]), targetGroups, rawGroups\n",
    "\n",
    "entropyTarget, groupTargets, _ = findEntropy('play')\n",
    "table(groupTargets)\n",
    "print('entropy target =', entropyTarget)"
   ]
  },
  {
   "cell_type": "markdown",
   "metadata": {},
   "source": [
    "## Gain\n",
    "\n",
    "Gain dalam sebuah fitur $X$ untuk data $T$:\n",
    "\n",
    "$$ \\operatorname{Gain}(T, X) = \\operatorname{Entropy}(T) - \\sum_{v\\in{T}} \\frac{T_{X,v}}{T} E(T_{X,v}) $$\n",
    "\n",
    "\n"
   ]
  },
  {
   "cell_type": "code",
   "execution_count": 9,
   "metadata": {
    "scrolled": false
   },
   "outputs": [
    {
     "data": {
      "text/html": [
       "<table>\n",
       "<thead>\n",
       "<tr><th>value   </th><th style=\"text-align: right;\">  count</th><th style=\"text-align: right;\">  probability</th></tr>\n",
       "</thead>\n",
       "<tbody>\n",
       "<tr><td>overcast</td><td style=\"text-align: right;\">      4</td><td style=\"text-align: right;\">     0.285714</td></tr>\n",
       "<tr><td>rainy   </td><td style=\"text-align: right;\">      5</td><td style=\"text-align: right;\">     0.357143</td></tr>\n",
       "<tr><td>sunny   </td><td style=\"text-align: right;\">      5</td><td style=\"text-align: right;\">     0.357143</td></tr>\n",
       "</tbody>\n",
       "</table>"
      ],
      "text/plain": [
       "<IPython.core.display.HTML object>"
      ]
     },
     "metadata": {},
     "output_type": "display_data"
    },
    {
     "name": "stdout",
     "output_type": "stream",
     "text": [
      "gain dari 'outlook': 0.246750\n"
     ]
    },
    {
     "data": {
      "text/html": [
       "<table>\n",
       "<thead>\n",
       "<tr><th>value  </th><th style=\"text-align: right;\">  count</th><th style=\"text-align: right;\">  probability</th></tr>\n",
       "</thead>\n",
       "<tbody>\n",
       "<tr><td>cool   </td><td style=\"text-align: right;\">      4</td><td style=\"text-align: right;\">     0.285714</td></tr>\n",
       "<tr><td>hot    </td><td style=\"text-align: right;\">      4</td><td style=\"text-align: right;\">     0.285714</td></tr>\n",
       "<tr><td>mild   </td><td style=\"text-align: right;\">      6</td><td style=\"text-align: right;\">     0.428571</td></tr>\n",
       "</tbody>\n",
       "</table>"
      ],
      "text/plain": [
       "<IPython.core.display.HTML object>"
      ]
     },
     "metadata": {},
     "output_type": "display_data"
    },
    {
     "name": "stdout",
     "output_type": "stream",
     "text": [
      "gain dari 'temperature': 0.029223\n"
     ]
    },
    {
     "data": {
      "text/html": [
       "<table>\n",
       "<thead>\n",
       "<tr><th>value  </th><th style=\"text-align: right;\">  count</th><th style=\"text-align: right;\">  probability</th></tr>\n",
       "</thead>\n",
       "<tbody>\n",
       "<tr><td>high   </td><td style=\"text-align: right;\">      7</td><td style=\"text-align: right;\">          0.5</td></tr>\n",
       "<tr><td>normal </td><td style=\"text-align: right;\">      7</td><td style=\"text-align: right;\">          0.5</td></tr>\n",
       "</tbody>\n",
       "</table>"
      ],
      "text/plain": [
       "<IPython.core.display.HTML object>"
      ]
     },
     "metadata": {},
     "output_type": "display_data"
    },
    {
     "name": "stdout",
     "output_type": "stream",
     "text": [
      "gain dari 'humidity': 0.151836\n"
     ]
    },
    {
     "data": {
      "text/html": [
       "<table>\n",
       "<thead>\n",
       "<tr><th>value  </th><th style=\"text-align: right;\">  count</th><th style=\"text-align: right;\">  probability</th></tr>\n",
       "</thead>\n",
       "<tbody>\n",
       "<tr><td>False  </td><td style=\"text-align: right;\">      8</td><td style=\"text-align: right;\">     0.571429</td></tr>\n",
       "<tr><td>True   </td><td style=\"text-align: right;\">      6</td><td style=\"text-align: right;\">     0.428571</td></tr>\n",
       "</tbody>\n",
       "</table>"
      ],
      "text/plain": [
       "<IPython.core.display.HTML object>"
      ]
     },
     "metadata": {},
     "output_type": "display_data"
    },
    {
     "name": "stdout",
     "output_type": "stream",
     "text": [
      "gain dari 'windy': 0.048127\n"
     ]
    }
   ],
   "source": [
    "def findGain(column):\n",
    "    entropyOutlook, groupOutlooks, rawOutlooks = findEntropy(column)\n",
    "    table(groupOutlooks)\n",
    "    gain = entropyTarget-sum(len(data)/len(df)*sum(-x/len(data)*log(x/len(data),2) \n",
    "                for x in data.groupby('play').size()) for key,data in rawOutlooks)\n",
    "    print(\"gain dari '%s': %f\" % (column, gain))\n",
    "    return gain\n",
    "\n",
    "gains = [[x,findGain(x)] for x in ['outlook','temperature','humidity','windy']]"
   ]
  },
  {
   "cell_type": "markdown",
   "metadata": {},
   "source": [
    "### Overall Gain Score:"
   ]
  },
  {
   "cell_type": "code",
   "execution_count": 7,
   "metadata": {},
   "outputs": [
    {
     "data": {
      "text/html": [
       "<table>\n",
       "<thead>\n",
       "<tr><th>Feature    </th><th style=\"text-align: right;\">  Gain Score</th></tr>\n",
       "</thead>\n",
       "<tbody>\n",
       "<tr><td>outlook    </td><td style=\"text-align: right;\">   0.24675  </td></tr>\n",
       "<tr><td>humidity   </td><td style=\"text-align: right;\">   0.151836 </td></tr>\n",
       "<tr><td>windy      </td><td style=\"text-align: right;\">   0.048127 </td></tr>\n",
       "<tr><td>temperature</td><td style=\"text-align: right;\">   0.0292226</td></tr>\n",
       "</tbody>\n",
       "</table>"
      ],
      "text/plain": [
       "<IPython.core.display.HTML object>"
      ]
     },
     "metadata": {},
     "output_type": "display_data"
    },
    {
     "name": "stdout",
     "output_type": "stream",
     "text": [
      "'outlook' mempunyai gain score tertinggi sedangkan 'temperature' terendah\n"
     ]
    }
   ],
   "source": [
    "result = DataFrame(gains, columns=[\"Feature\", \"Gain Score\"]).sort_values(\"Gain Score\")[::-1]\n",
    "table(result)\n",
    "\n",
    "print(\"'%s' mempunyai gain score tertinggi sedangkan '%s' terendah\" % (result.values[0,0], result.values[-1,0]))"
   ]
  }
 ],
 "metadata": {
  "kernelspec": {
   "display_name": "Python 3",
   "language": "python",
   "name": "python3"
  },
  "language_info": {
   "codemirror_mode": {
    "name": "ipython",
    "version": 3
   },
   "file_extension": ".py",
   "mimetype": "text/x-python",
   "name": "python",
   "nbconvert_exporter": "python",
   "pygments_lexer": "ipython3",
   "version": "3.7.3"
  }
 },
 "nbformat": 4,
 "nbformat_minor": 2
}
