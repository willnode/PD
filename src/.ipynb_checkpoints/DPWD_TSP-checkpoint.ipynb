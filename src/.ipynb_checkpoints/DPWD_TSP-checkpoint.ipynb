{
 "cells": [
  {
   "cell_type": "markdown",
   "metadata": {},
   "source": [
    "## Traveling Salesman"
   ]
  },
  {
   "cell_type": "code",
   "execution_count": 113,
   "metadata": {},
   "outputs": [
    {
     "data": {
      "text/html": [
       "<div>\n",
       "<style scoped>\n",
       "    .dataframe tbody tr th:only-of-type {\n",
       "        vertical-align: middle;\n",
       "    }\n",
       "\n",
       "    .dataframe tbody tr th {\n",
       "        vertical-align: top;\n",
       "    }\n",
       "\n",
       "    .dataframe thead th {\n",
       "        text-align: right;\n",
       "    }\n",
       "</style>\n",
       "<table border=\"1\" class=\"dataframe\">\n",
       "  <thead>\n",
       "    <tr style=\"text-align: right;\">\n",
       "      <th></th>\n",
       "      <th>A</th>\n",
       "      <th>B</th>\n",
       "      <th>C</th>\n",
       "      <th>D</th>\n",
       "      <th>E</th>\n",
       "    </tr>\n",
       "  </thead>\n",
       "  <tbody>\n",
       "    <tr>\n",
       "      <td>0</td>\n",
       "      <td>0.000000</td>\n",
       "      <td>4.000000</td>\n",
       "      <td>3.000000</td>\n",
       "      <td>1.414214</td>\n",
       "      <td>7.071068</td>\n",
       "    </tr>\n",
       "    <tr>\n",
       "      <td>1</td>\n",
       "      <td>4.000000</td>\n",
       "      <td>0.000000</td>\n",
       "      <td>5.000000</td>\n",
       "      <td>3.162278</td>\n",
       "      <td>5.099020</td>\n",
       "    </tr>\n",
       "    <tr>\n",
       "      <td>2</td>\n",
       "      <td>3.000000</td>\n",
       "      <td>5.000000</td>\n",
       "      <td>0.000000</td>\n",
       "      <td>2.236068</td>\n",
       "      <td>5.385165</td>\n",
       "    </tr>\n",
       "    <tr>\n",
       "      <td>3</td>\n",
       "      <td>1.414214</td>\n",
       "      <td>3.162278</td>\n",
       "      <td>2.236068</td>\n",
       "      <td>0.000000</td>\n",
       "      <td>5.656854</td>\n",
       "    </tr>\n",
       "    <tr>\n",
       "      <td>4</td>\n",
       "      <td>7.071068</td>\n",
       "      <td>5.099020</td>\n",
       "      <td>5.385165</td>\n",
       "      <td>5.656854</td>\n",
       "      <td>0.000000</td>\n",
       "    </tr>\n",
       "  </tbody>\n",
       "</table>\n",
       "</div>"
      ],
      "text/plain": [
       "          A         B         C         D         E\n",
       "0  0.000000  4.000000  3.000000  1.414214  7.071068\n",
       "1  4.000000  0.000000  5.000000  3.162278  5.099020\n",
       "2  3.000000  5.000000  0.000000  2.236068  5.385165\n",
       "3  1.414214  3.162278  2.236068  0.000000  5.656854\n",
       "4  7.071068  5.099020  5.385165  5.656854  0.000000"
      ]
     },
     "execution_count": 113,
     "metadata": {},
     "output_type": "execute_result"
    },
    {
     "data": {
      "image/png": "[encoded data removed]",
      "text/plain": [
       "<Figure size 432x288 with 1 Axes>"
      ]
     },
     "metadata": {
      "needs_background": "light"
     },
     "output_type": "display_data"
    }
   ],
   "source": [
    "from numpy import transpose, array\n",
    "from matplotlib.pyplot import scatter, subplots\n",
    "from scipy.spatial import distance_matrix\n",
    "from pandas import DataFrame\n",
    "\n",
    "points = array([(0,0), (0,4), (3,0), (1,1), (5,5)])\n",
    "labels = ['A', 'B', 'C', 'D', 'E']\n",
    "x, y = transpose(points)\n",
    "\n",
    "fig, ax = subplots()\n",
    "ax.scatter(x, y)\n",
    "\n",
    "for i, txt in enumerate(labels):\n",
    "    ax.annotate(txt, (x[i], y[i]))\n",
    "\n",
    "df = DataFrame(distance_matrix(points, points), columns=labels)\n",
    "df"
   ]
  },
  {
   "cell_type": "code",
   "execution_count": 148,
   "metadata": {},
   "outputs": [
    {
     "name": "stdout",
     "output_type": "stream",
     "text": [
      "['C -> A 3.00', 'D -> B 3.16', 'E -> C 5.39', 'A -> D 1.41', 'B -> E 5.10'] 18.06\n",
      "(16.84832056705845, ['DA 1.41', 'EB 5.10', 'AC 3.00', 'CD 2.24', 'BE 5.10'], 16.84832056705845)\n"
     ]
    }
   ],
   "source": [
    "import math\n",
    "import itertools\n",
    "\n",
    "def isRouteValid(routes):\n",
    "    counts = {}\n",
    "    for f, t, d in routes:\n",
    "        f = int(f); t = int(t)\n",
    "        if (f == t): return False\n",
    "        counts[f] = 1 if counts.get(f, None) is None else counts[f] + 1\n",
    "        counts[t] = 1 if counts.get(t, None) is None else counts[t] + 1\n",
    "    for c in counts:\n",
    "        if (counts[c] != 2): return False\n",
    "    return True\n",
    "\n",
    "def mapEnroute(dists, route):\n",
    "    r = []\n",
    "    for i in range(len(route)):\n",
    "        r.append(dists[i][route[i]])\n",
    "    return r\n",
    "\n",
    "def nicePrint(pds, i):\n",
    "    m = [pds[x][y] for x,y in enumerate(i)]\n",
    "    label = lambda x: labels[int(x)]\n",
    "    s = sum([d for f,t,d in m])\n",
    "    return str([\"{0} -> {1} {2:.2f}\".format(label(f),label(t),d) for f,t,d in m]) + \" {:.2f}\".format(s)\n",
    "\n",
    "def cost(distances, labels):\n",
    "    dists = []\n",
    "    for x, row in enumerate(distances):\n",
    "        for y, cell in enumerate(row):\n",
    "            dists.append([x, y, cell])\n",
    "    pd = DataFrame(dists, columns=['f','t','d'])\n",
    "    pds = [list(data.sort_values('d').values) for key,data in pd.groupby('t')]\n",
    "    \n",
    "    iters = list(itertools.product(*([list(range(len(labels)))]*len(labels))))\n",
    "    iters.sort(key=lambda x: sum(x))\n",
    "    for i in (iters):\n",
    "        if(isRouteValid(mapEnroute(pds, i))):\n",
    "            return nicePrint(pds, i)\n",
    "    return 0\n",
    "\n",
    "def bruteIt(distances, labels):\n",
    "    dists = []\n",
    "    for x, row in enumerate(distances):\n",
    "        for y, cell in enumerate(row):\n",
    "            dists.append([x, y, cell])\n",
    "    pd = DataFrame(dists, columns=['f','t','d'])\n",
    "    pds = [list(data.sort_values('d').values) for key,data in pd.groupby('t')]\n",
    "    \n",
    "    iters = list(itertools.permutations(list(range(len(labels)))))\n",
    "    shortest_route = None\n",
    "    shortest_dist = 999999999999999999\n",
    "    for i in iters:\n",
    "        if any([x==y for x,y in enumerate(i)]): continue\n",
    "        distance = sum([distances[x,y] for x,y in enumerate(i)])\n",
    "        if distance < shortest_dist:\n",
    "            shortest_dist = distance\n",
    "            shortest_route = i\n",
    "    return shortest_dist, [\"{}{} {:.2f}\".format(labels[y],labels[x],distances[x,y]) for x,y in enumerate(shortest_route)], shortest_dist\n",
    "\n",
    "print(cost(df.values, labels))\n",
    "print(bruteIt(df.values, labels))"
   ]
  }
 ],
 "metadata": {
  "kernelspec": {
   "display_name": "Python 3",
   "language": "python",
   "name": "python3"
  },
  "language_info": {
   "codemirror_mode": {
    "name": "ipython",
    "version": 3
   },
   "file_extension": ".py",
   "mimetype": "text/x-python",
   "name": "python",
   "nbconvert_exporter": "python",
   "pygments_lexer": "ipython3",
   "version": "3.7.3"
  }
 },
 "nbformat": 4,
 "nbformat_minor": 2
}
