{
 "cells": [
  {
   "cell_type": "markdown",
   "metadata": {},
   "source": [
    "# PD\n",
    "\n",
    "Penambangan Data, *Data Mining*, *Soli Deo Gloria* of data\n",
    "\n",
    "+ NAMA: Wildan Mubarok\n",
    "+ NIM: 180411100106\n",
    "+ PEMBIMBING: [@mulaab](https://github.com/mulaab)\n",
    "+ REFERENSI: <https://mulaab.github.io/datamining>\n",
    "\n"
   ]
  },
  {
   "cell_type": "markdown",
   "metadata": {},
   "source": [
    "## Kamus Data Mining\n",
    "\n",
    "Core Concept\n",
    "\n",
    "+ Data adalah tabel, multi-n-matriks\n",
    "+ Kolom adalah fitur\n",
    "+ Baris adalah sampel\n",
    "+ \"Eureka\" data mining adalah mengubah data sampah menjadi data emas\n",
    "\n",
    "Jenis Data\n",
    "\n",
    "+ Numerik\n",
    "  - Skala Interval\n",
    "  - Skala Ratio\n",
    "+ Kategorikal\n",
    "  - Biner\n",
    "  - Nominal\n",
    "\n",
    "Prosedur\n",
    "\n",
    "+ Business Understanding\n",
    "+ Prepocessing\n",
    "+ Modeling\n",
    "+ Evaluation\n",
    "+ Deployment\n",
    "\n",
    "Toolkit\n",
    "\n",
    "+ Built-ins: \n",
    "  - [statistics](https://docs.python.org/3/library/statistics.html)\n",
    "  - [itertools](https://docs.python.org/3/library/itertools.html)\n",
    "+ [Pandas](https://pandas.pydata.org)\n",
    "+ [NumPy](https://numpy.org)\n",
    "+ [SciPy](https://www.scipy.org)\n",
    "+ [Matplotlib](https://matplotlib.org)\n",
    "+ [Scikit-Learn](https://scikit-learn.org/stable/)"
   ]
  }
 ],
 "metadata": {
  "kernelspec": {
   "display_name": "Python 3",
   "language": "python",
   "name": "python3"
  },
  "language_info": {
   "codemirror_mode": {
    "name": "ipython",
    "version": 3
   },
   "file_extension": ".py",
   "mimetype": "text/x-python",
   "name": "python",
   "nbconvert_exporter": "python",
   "pygments_lexer": "ipython3",
   "version": "3.7.3"
  }
 },
 "nbformat": 4,
 "nbformat_minor": 2
}
