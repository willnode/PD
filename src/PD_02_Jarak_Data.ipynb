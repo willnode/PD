{
 "cells": [
  {
   "cell_type": "markdown",
   "metadata": {},
   "source": [
    "# Jarak Data\n",
    "\n",
    "Data dapat diketahui equivalensinya menggunakan penggurukan jarak dari dataset.\n",
    "\n",
    "Sebelum itu, mari kita tarik sampel data dan beri label."
   ]
  },
  {
   "cell_type": "code",
   "execution_count": 18,
   "metadata": {},
   "outputs": [],
   "source": [
    "from pandas import *\n",
    "import itertools\n",
    "import scipy.spatial.distance as spad"
   ]
  },
  {
   "cell_type": "code",
   "execution_count": 19,
   "metadata": {},
   "outputs": [
    {
     "data": {
      "text/html": [
       "<div>\n",
       "<style scoped>\n",
       "    .dataframe tbody tr th:only-of-type {\n",
       "        vertical-align: middle;\n",
       "    }\n",
       "\n",
       "    .dataframe tbody tr th {\n",
       "        vertical-align: top;\n",
       "    }\n",
       "\n",
       "    .dataframe thead th {\n",
       "        text-align: right;\n",
       "    }\n",
       "</style>\n",
       "<table border=\"1\" class=\"dataframe\">\n",
       "  <thead>\n",
       "    <tr style=\"text-align: right;\">\n",
       "      <th></th>\n",
       "      <th>Class</th>\n",
       "      <th>Eccentricity</th>\n",
       "      <th>Aspect Ratio</th>\n",
       "      <th>Elongation</th>\n",
       "      <th>Solidity</th>\n",
       "    </tr>\n",
       "  </thead>\n",
       "  <tbody>\n",
       "    <tr>\n",
       "      <td>0</td>\n",
       "      <td>A</td>\n",
       "      <td>1.45</td>\n",
       "      <td>2.95</td>\n",
       "      <td>0.65</td>\n",
       "      <td>1.97</td>\n",
       "    </tr>\n",
       "    <tr>\n",
       "      <td>1</td>\n",
       "      <td>B</td>\n",
       "      <td>1.48</td>\n",
       "      <td>3.05</td>\n",
       "      <td>0.72</td>\n",
       "      <td>1.96</td>\n",
       "    </tr>\n",
       "    <tr>\n",
       "      <td>2</td>\n",
       "      <td>C</td>\n",
       "      <td>1.53</td>\n",
       "      <td>3.15</td>\n",
       "      <td>0.78</td>\n",
       "      <td>1.96</td>\n",
       "    </tr>\n",
       "    <tr>\n",
       "      <td>3</td>\n",
       "      <td>D</td>\n",
       "      <td>1.48</td>\n",
       "      <td>2.92</td>\n",
       "      <td>0.71</td>\n",
       "      <td>1.95</td>\n",
       "    </tr>\n",
       "  </tbody>\n",
       "</table>\n",
       "</div>"
      ],
      "text/plain": [
       "  Class  Eccentricity  Aspect Ratio  Elongation  Solidity\n",
       "0     A          1.45          2.95        0.65      1.97\n",
       "1     B          1.48          3.05        0.72      1.96\n",
       "2     C          1.53          3.15        0.78      1.96\n",
       "3     D          1.48          2.92        0.71      1.95"
      ]
     },
     "execution_count": 19,
     "metadata": {},
     "output_type": "execute_result"
    }
   ],
   "source": [
    "columns = ['Specimen Number', 'Eccentricity', 'Aspect Ratio', 'Elongation', 'Solidity']\n",
    "df = read_csv('leaf.csv', nrows=4, usecols=columns)\n",
    "data = [[[\"\",\"A\",\"B\",\"C\",\"D\"][int(x[0])]]+[round(i*2,2) for i in x[1:]] for x in df.values.tolist()]\n",
    "df = DataFrame(data, columns=['Class']+columns[1:])\n",
    "df"
   ]
  },
  {
   "cell_type": "markdown",
   "metadata": {},
   "source": [
    "## Minkowski Distance\n",
    "\n",
    "Jarak Minkowski adalah jarak spatial antara dua record ($x$ dan $y$) dengan $m$ sebagai parameter real dan $n$ sebagai jumlah dimensi pada entity.\n",
    "\n",
    "$$ d_{\\operatorname{minkowski}} = \\left(\\sum_{i=1}^{n}|x_{i}-y_{i}|^{m}\\right)^{\\frac{1}{m}},m\\geq 1$$\n",
    "\n",
    "Special Case: \n",
    "+ Jika M = 1 maka bisa disebut Manhattan (Cityblock) distance\n",
    "\n",
    "$$ d_{\\operatorname{manhattan}} = \\sum_{i=1}^{n}|x_{i}-y_{i}|$$\n",
    "\n",
    "+ Jika M = 2 maka bisa disebut Euclidean distance.\n",
    "\n",
    "$$ d_{\\operatorname{euclidean}} = \\sqrt{\\sum_{i=1}^{n}|x_{i}-y_{i}|^{2}} $$\n",
    "\n",
    "Ilustrasi menggambarkan hitungan Cityblock (garis putus-putus) dan Euclidean (garis lurus) secara visual:\n",
    "\n",
    "![](https://www.researchgate.net/profile/Jose_Palma6/publication/229342959/figure/fig5/AS:300865354256401@1448743298665/City-block-distances-dashed-lines-between-Y-a-and-Y-b-in-a-2-dimensional-space-Note.png)"
   ]
  },
  {
   "cell_type": "code",
   "execution_count": 20,
   "metadata": {},
   "outputs": [
    {
     "data": {
      "text/html": [
       "<div>\n",
       "<style scoped>\n",
       "    .dataframe tbody tr th:only-of-type {\n",
       "        vertical-align: middle;\n",
       "    }\n",
       "\n",
       "    .dataframe tbody tr th {\n",
       "        vertical-align: top;\n",
       "    }\n",
       "\n",
       "    .dataframe thead th {\n",
       "        text-align: right;\n",
       "    }\n",
       "</style>\n",
       "<table border=\"1\" class=\"dataframe\">\n",
       "  <thead>\n",
       "    <tr style=\"text-align: right;\">\n",
       "      <th></th>\n",
       "      <th>v1-v2</th>\n",
       "      <th>Manhattan distance (M=1)</th>\n",
       "      <th>Euclidean distance (M=2)</th>\n",
       "      <th>Minkowski distance at M=3</th>\n",
       "    </tr>\n",
       "  </thead>\n",
       "  <tbody>\n",
       "    <tr>\n",
       "      <td>0</td>\n",
       "      <td>A - B</td>\n",
       "      <td>0.21</td>\n",
       "      <td>0.126095</td>\n",
       "      <td>0.111091</td>\n",
       "    </tr>\n",
       "    <tr>\n",
       "      <td>1</td>\n",
       "      <td>A - C</td>\n",
       "      <td>0.42</td>\n",
       "      <td>0.251794</td>\n",
       "      <td>0.220426</td>\n",
       "    </tr>\n",
       "    <tr>\n",
       "      <td>2</td>\n",
       "      <td>A - D</td>\n",
       "      <td>0.14</td>\n",
       "      <td>0.076158</td>\n",
       "      <td>0.065265</td>\n",
       "    </tr>\n",
       "    <tr>\n",
       "      <td>3</td>\n",
       "      <td>B - C</td>\n",
       "      <td>0.21</td>\n",
       "      <td>0.126886</td>\n",
       "      <td>0.110275</td>\n",
       "    </tr>\n",
       "    <tr>\n",
       "      <td>4</td>\n",
       "      <td>B - D</td>\n",
       "      <td>0.15</td>\n",
       "      <td>0.130767</td>\n",
       "      <td>0.130039</td>\n",
       "    </tr>\n",
       "    <tr>\n",
       "      <td>5</td>\n",
       "      <td>C - D</td>\n",
       "      <td>0.36</td>\n",
       "      <td>0.245764</td>\n",
       "      <td>0.232918</td>\n",
       "    </tr>\n",
       "  </tbody>\n",
       "</table>\n",
       "</div>"
      ],
      "text/plain": [
       "   v1-v2  Manhattan distance (M=1)  Euclidean distance (M=2)  \\\n",
       "0  A - B                      0.21                  0.126095   \n",
       "1  A - C                      0.42                  0.251794   \n",
       "2  A - D                      0.14                  0.076158   \n",
       "3  B - C                      0.21                  0.126886   \n",
       "4  B - D                      0.15                  0.130767   \n",
       "5  C - D                      0.36                  0.245764   \n",
       "\n",
       "   Minkowski distance at M=3  \n",
       "0                   0.111091  \n",
       "1                   0.220426  \n",
       "2                   0.065265  \n",
       "3                   0.110275  \n",
       "4                   0.130039  \n",
       "5                   0.232918  "
      ]
     },
     "execution_count": 20,
     "metadata": {},
     "output_type": "execute_result"
    }
   ],
   "source": [
    "columns = ['v1-v2', 'Manhattan distance (M=1)', 'Euclidean distance (M=2)', 'Minkowski distance at M=3']\n",
    "data2 = [(\n",
    "    \"{} - {}\".format(a[0],b[0]),\n",
    "    spad.cityblock(a[1:],b[1:]),\n",
    "    spad.euclidean(a[1:],b[1:]),\n",
    "    spad.minkowski(a[1:],b[1:],3),\n",
    "    )\n",
    "    for a, b in itertools.combinations(data, 2)]\n",
    "DataFrame(data2,columns=columns)"
   ]
  },
  {
   "cell_type": "markdown",
   "metadata": {},
   "source": [
    "## Average Distance"
   ]
  },
  {
   "cell_type": "code",
   "execution_count": null,
   "metadata": {},
   "outputs": [],
   "source": []
  },
  {
   "cell_type": "code",
   "execution_count": 22,
   "metadata": {},
   "outputs": [
    {
     "data": {
      "text/html": [
       "<div>\n",
       "<style scoped>\n",
       "    .dataframe tbody tr th:only-of-type {\n",
       "        vertical-align: middle;\n",
       "    }\n",
       "\n",
       "    .dataframe tbody tr th {\n",
       "        vertical-align: top;\n",
       "    }\n",
       "\n",
       "    .dataframe thead th {\n",
       "        text-align: right;\n",
       "    }\n",
       "</style>\n",
       "<table border=\"1\" class=\"dataframe\">\n",
       "  <thead>\n",
       "    <tr style=\"text-align: right;\">\n",
       "      <th></th>\n",
       "      <th>v1-v2</th>\n",
       "      <th>Average Distance</th>\n",
       "      <th>Euclidean distance (M=2)</th>\n",
       "      <th>Minkowski M=3</th>\n",
       "    </tr>\n",
       "  </thead>\n",
       "  <tbody>\n",
       "    <tr>\n",
       "      <td>0</td>\n",
       "      <td>A - B</td>\n",
       "      <td>0.21</td>\n",
       "      <td>0.126095</td>\n",
       "      <td>0.126095</td>\n",
       "    </tr>\n",
       "    <tr>\n",
       "      <td>1</td>\n",
       "      <td>A - C</td>\n",
       "      <td>0.42</td>\n",
       "      <td>0.251794</td>\n",
       "      <td>0.251794</td>\n",
       "    </tr>\n",
       "    <tr>\n",
       "      <td>2</td>\n",
       "      <td>A - D</td>\n",
       "      <td>0.14</td>\n",
       "      <td>0.076158</td>\n",
       "      <td>0.076158</td>\n",
       "    </tr>\n",
       "    <tr>\n",
       "      <td>3</td>\n",
       "      <td>B - C</td>\n",
       "      <td>0.21</td>\n",
       "      <td>0.126886</td>\n",
       "      <td>0.126886</td>\n",
       "    </tr>\n",
       "    <tr>\n",
       "      <td>4</td>\n",
       "      <td>B - D</td>\n",
       "      <td>0.15</td>\n",
       "      <td>0.130767</td>\n",
       "      <td>0.130767</td>\n",
       "    </tr>\n",
       "    <tr>\n",
       "      <td>5</td>\n",
       "      <td>C - D</td>\n",
       "      <td>0.36</td>\n",
       "      <td>0.245764</td>\n",
       "      <td>0.245764</td>\n",
       "    </tr>\n",
       "  </tbody>\n",
       "</table>\n",
       "</div>"
      ],
      "text/plain": [
       "   v1-v2  Average Distance  Euclidean distance (M=2)  Minkowski M=3\n",
       "0  A - B              0.21                  0.126095       0.126095\n",
       "1  A - C              0.42                  0.251794       0.251794\n",
       "2  A - D              0.14                  0.076158       0.076158\n",
       "3  B - C              0.21                  0.126886       0.126886\n",
       "4  B - D              0.15                  0.130767       0.130767\n",
       "5  C - D              0.36                  0.245764       0.245764"
      ]
     },
     "execution_count": 22,
     "metadata": {},
     "output_type": "execute_result"
    }
   ],
   "source": [
    "columns = ['v1-v2', 'Average Distance', 'Euclidean distance (M=2)', 'Minkowski M=3']\n",
    "data2 = [(\n",
    "    \"{} - {}\".format(a[0],b[0]),\n",
    "    spad.cityblock(a[1:],b[1:]),\n",
    "    spad.euclidean(a[1:],b[1:]),\n",
    "    spad.euclidean(a[1:],b[1:]),\n",
    "    )\n",
    "    for a, b in itertools.combinations(data, 2)]\n",
    "DataFrame(data2,columns=columns)"
   ]
  },
  {
   "cell_type": "markdown",
   "metadata": {},
   "source": [
    "## Weighted Distance"
   ]
  },
  {
   "cell_type": "markdown",
   "metadata": {},
   "source": [
    "## Chord distance"
   ]
  },
  {
   "cell_type": "markdown",
   "metadata": {},
   "source": [
    "## Mahalanobis distance"
   ]
  },
  {
   "cell_type": "markdown",
   "metadata": {},
   "source": [
    "## Cosine Measure"
   ]
  },
  {
   "cell_type": "markdown",
   "metadata": {},
   "source": [
    "## Pearson correlation"
   ]
  },
  {
   "cell_type": "markdown",
   "metadata": {},
   "source": [
    "## Summary"
   ]
  }
 ],
 "metadata": {
  "kernelspec": {
   "display_name": "Python 3",
   "language": "python",
   "name": "python3"
  },
  "language_info": {
   "codemirror_mode": {
    "name": "ipython",
    "version": 3
   },
   "file_extension": ".py",
   "mimetype": "text/x-python",
   "name": "python",
   "nbconvert_exporter": "python",
   "pygments_lexer": "ipython3",
   "version": "3.7.3"
  }
 },
 "nbformat": 4,
 "nbformat_minor": 2
}
