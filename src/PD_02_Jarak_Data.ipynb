{
 "cells": [
  {
   "cell_type": "markdown",
   "metadata": {},
   "source": [
    "# Jarak Data\n",
    "\n",
    "Data dapat diketahui equivalensinya menggunakan penggurukan jarak dari dataset.\n",
    "\n",
    "Sebelum itu, mari kita tarik sampel data dan beri label."
   ]
  },
  {
   "cell_type": "code",
   "execution_count": 4,
   "metadata": {},
   "outputs": [],
   "source": [
    "import pandas as pd\n",
    "import itertools\n",
    "import scipy.spatial.distance as spad"
   ]
  },
  {
   "cell_type": "code",
   "execution_count": 10,
   "metadata": {},
   "outputs": [
    {
     "data": {
      "text/html": [
       "<div>\n",
       "<style scoped>\n",
       "    .dataframe tbody tr th:only-of-type {\n",
       "        vertical-align: middle;\n",
       "    }\n",
       "\n",
       "    .dataframe tbody tr th {\n",
       "        vertical-align: top;\n",
       "    }\n",
       "\n",
       "    .dataframe thead th {\n",
       "        text-align: right;\n",
       "    }\n",
       "</style>\n",
       "<table border=\"1\" class=\"dataframe\">\n",
       "  <thead>\n",
       "    <tr style=\"text-align: right;\">\n",
       "      <th></th>\n",
       "      <th>Specimen Number</th>\n",
       "      <th>Eccentricity</th>\n",
       "      <th>Aspect Ratio</th>\n",
       "      <th>Elongation</th>\n",
       "      <th>Solidity</th>\n",
       "    </tr>\n",
       "  </thead>\n",
       "  <tbody>\n",
       "    <tr>\n",
       "      <td>0</td>\n",
       "      <td>A</td>\n",
       "      <td>0.73</td>\n",
       "      <td>1.47</td>\n",
       "      <td>0.32</td>\n",
       "      <td>0.99</td>\n",
       "    </tr>\n",
       "    <tr>\n",
       "      <td>1</td>\n",
       "      <td>B</td>\n",
       "      <td>0.74</td>\n",
       "      <td>1.53</td>\n",
       "      <td>0.36</td>\n",
       "      <td>0.98</td>\n",
       "    </tr>\n",
       "    <tr>\n",
       "      <td>2</td>\n",
       "      <td>C</td>\n",
       "      <td>0.77</td>\n",
       "      <td>1.57</td>\n",
       "      <td>0.39</td>\n",
       "      <td>0.98</td>\n",
       "    </tr>\n",
       "    <tr>\n",
       "      <td>3</td>\n",
       "      <td>D</td>\n",
       "      <td>0.74</td>\n",
       "      <td>1.46</td>\n",
       "      <td>0.35</td>\n",
       "      <td>0.98</td>\n",
       "    </tr>\n",
       "  </tbody>\n",
       "</table>\n",
       "</div>"
      ],
      "text/plain": [
       "  Specimen Number  Eccentricity  Aspect Ratio  Elongation  Solidity\n",
       "0               A          0.73          1.47        0.32      0.99\n",
       "1               B          0.74          1.53        0.36      0.98\n",
       "2               C          0.77          1.57        0.39      0.98\n",
       "3               D          0.74          1.46        0.35      0.98"
      ]
     },
     "execution_count": 10,
     "metadata": {},
     "output_type": "execute_result"
    }
   ],
   "source": [
    "columns = ['Specimen Number', 'Eccentricity', 'Aspect Ratio', 'Elongation', 'Solidity']\n",
    "df = pd.read_csv('leaf.csv', nrows=4, usecols=columns)\n",
    "data = [[[\"\",\"A\",\"B\",\"C\",\"D\"][int(x[0])]]+[round(i,2) for i in x[1:]] for x in df.values.tolist()]\n",
    "df = pd.DataFrame(data, columns=df.columns)\n",
    "#data = [x[1:] for x in df.values.tolist()] # Discard for REAL calculation\n",
    "df"
   ]
  },
  {
   "cell_type": "markdown",
   "metadata": {},
   "source": [
    "## Minkowski Distance\n",
    "\n",
    "Jarak Minkowski adalah jarak spatial dengan M sebagai parameter real dan N sebagai jumlah dimensi pada entity.\n",
    "\n",
    "Special Case: \n",
    "+ Jika M = 1 maka bisa disebut sbg Manhattan (Cityblock) distance\n",
    "+ Jika M = 2 maka bisa disebut Euclidean distance."
   ]
  },
  {
   "cell_type": "code",
   "execution_count": 14,
   "metadata": {},
   "outputs": [
    {
     "data": {
      "text/html": [
       "<div>\n",
       "<style scoped>\n",
       "    .dataframe tbody tr th:only-of-type {\n",
       "        vertical-align: middle;\n",
       "    }\n",
       "\n",
       "    .dataframe tbody tr th {\n",
       "        vertical-align: top;\n",
       "    }\n",
       "\n",
       "    .dataframe thead th {\n",
       "        text-align: right;\n",
       "    }\n",
       "</style>\n",
       "<table border=\"1\" class=\"dataframe\">\n",
       "  <thead>\n",
       "    <tr style=\"text-align: right;\">\n",
       "      <th></th>\n",
       "      <th>v1-v2</th>\n",
       "      <th>Manhattan distance (M=1)</th>\n",
       "      <th>Euclidean distance (M=2)</th>\n",
       "    </tr>\n",
       "  </thead>\n",
       "  <tbody>\n",
       "    <tr>\n",
       "      <td>0</td>\n",
       "      <td>A-B</td>\n",
       "      <td>0.12</td>\n",
       "      <td>0.073485</td>\n",
       "    </tr>\n",
       "    <tr>\n",
       "      <td>1</td>\n",
       "      <td>A-C</td>\n",
       "      <td>0.22</td>\n",
       "      <td>0.128841</td>\n",
       "    </tr>\n",
       "    <tr>\n",
       "      <td>2</td>\n",
       "      <td>A-D</td>\n",
       "      <td>0.06</td>\n",
       "      <td>0.034641</td>\n",
       "    </tr>\n",
       "    <tr>\n",
       "      <td>3</td>\n",
       "      <td>B-C</td>\n",
       "      <td>0.10</td>\n",
       "      <td>0.058310</td>\n",
       "    </tr>\n",
       "    <tr>\n",
       "      <td>4</td>\n",
       "      <td>B-D</td>\n",
       "      <td>0.08</td>\n",
       "      <td>0.070711</td>\n",
       "    </tr>\n",
       "    <tr>\n",
       "      <td>5</td>\n",
       "      <td>C-D</td>\n",
       "      <td>0.18</td>\n",
       "      <td>0.120830</td>\n",
       "    </tr>\n",
       "  </tbody>\n",
       "</table>\n",
       "</div>"
      ],
      "text/plain": [
       "  v1-v2  Manhattan distance (M=1)  Euclidean distance (M=2)\n",
       "0   A-B                      0.12                  0.073485\n",
       "1   A-C                      0.22                  0.128841\n",
       "2   A-D                      0.06                  0.034641\n",
       "3   B-C                      0.10                  0.058310\n",
       "4   B-D                      0.08                  0.070711\n",
       "5   C-D                      0.18                  0.120830"
      ]
     },
     "execution_count": 14,
     "metadata": {},
     "output_type": "execute_result"
    }
   ],
   "source": [
    "columns = ['v1-v2', 'Manhattan distance (M=1)', 'Euclidean distance (M=2)']\n",
    "data2 = [(\n",
    "    a[0]+\"-\"+b[0],\n",
    "    spad.cityblock(a[1:],b[1:]),\n",
    "    spad.euclidean(a[1:],b[1:]))\n",
    "    for a, b in itertools.combinations(data, 2)]\n",
    "pd.DataFrame(data2,columns=columns)"
   ]
  },
  {
   "cell_type": "markdown",
   "metadata": {},
   "source": [
    "## Average Distance"
   ]
  },
  {
   "cell_type": "markdown",
   "metadata": {},
   "source": [
    "## Weighted Distance"
   ]
  },
  {
   "cell_type": "markdown",
   "metadata": {},
   "source": [
    "## Chord distance"
   ]
  },
  {
   "cell_type": "markdown",
   "metadata": {},
   "source": [
    "## Mahalanobis distance"
   ]
  },
  {
   "cell_type": "markdown",
   "metadata": {},
   "source": [
    "## Cosine Measure"
   ]
  },
  {
   "cell_type": "markdown",
   "metadata": {},
   "source": [
    "## Pearson correlation"
   ]
  },
  {
   "cell_type": "markdown",
   "metadata": {},
   "source": [
    "## Summary"
   ]
  }
 ],
 "metadata": {
  "kernelspec": {
   "display_name": "Python 3",
   "language": "python",
   "name": "python3"
  },
  "language_info": {
   "codemirror_mode": {
    "name": "ipython",
    "version": 3
   },
   "file_extension": ".py",
   "mimetype": "text/x-python",
   "name": "python",
   "nbconvert_exporter": "python",
   "pygments_lexer": "ipython3",
   "version": "3.7.3"
  }
 },
 "nbformat": 4,
 "nbformat_minor": 2
}
